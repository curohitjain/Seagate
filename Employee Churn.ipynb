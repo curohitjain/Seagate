{
 "cells": [
  {
   "cell_type": "code",
   "execution_count": 1,
   "id": "cfb1b79a",
   "metadata": {},
   "outputs": [],
   "source": [
    "import os\n",
    "os.chdir(\"C:\\\\Users\\\\P3161234\\\\Documents\\\\Seagate\")"
   ]
  },
  {
   "cell_type": "code",
   "execution_count": 2,
   "id": "b82a1b16",
   "metadata": {},
   "outputs": [
    {
     "name": "stdout",
     "output_type": "stream",
     "text": [
      "Note: you may need to restart the kernel to use updated packages.Requirement already satisfied: chart_studio in c:\\users\\p3161234\\anaconda3\\lib\\site-packages (1.1.0)\n",
      "Requirement already satisfied: six in c:\\users\\p3161234\\anaconda3\\lib\\site-packages (from chart_studio) (1.16.0)\n",
      "Requirement already satisfied: retrying>=1.3.3 in c:\\users\\p3161234\\anaconda3\\lib\\site-packages (from chart_studio) (1.3.4)\n",
      "Requirement already satisfied: requests in c:\\users\\p3161234\\anaconda3\\lib\\site-packages (from chart_studio) (2.28.1)\n",
      "Requirement already satisfied: plotly in c:\\users\\p3161234\\anaconda3\\lib\\site-packages (from chart_studio) (5.9.0)\n",
      "Requirement already satisfied: tenacity>=6.2.0 in c:\\users\\p3161234\\anaconda3\\lib\\site-packages (from plotly->chart_studio) (8.0.1)\n",
      "Requirement already satisfied: urllib3<1.27,>=1.21.1 in c:\\users\\p3161234\\anaconda3\\lib\\site-packages (from requests->chart_studio) (1.26.11)\n",
      "Requirement already satisfied: idna<4,>=2.5 in c:\\users\\p3161234\\anaconda3\\lib\\site-packages (from requests->chart_studio) (3.3)\n",
      "Requirement already satisfied: charset-normalizer<3,>=2 in c:\\users\\p3161234\\anaconda3\\lib\\site-packages (from requests->chart_studio) (2.0.4)\n",
      "Requirement already satisfied: certifi>=2017.4.17 in c:\\users\\p3161234\\anaconda3\\lib\\site-packages (from requests->chart_studio) (2022.9.14)\n",
      "\n"
     ]
    }
   ],
   "source": [
    "pip install chart_studio"
   ]
  },
  {
   "cell_type": "code",
   "execution_count": 16,
   "id": "6db8ec8f",
   "metadata": {},
   "outputs": [
    {
     "name": "stdout",
     "output_type": "stream",
     "text": [
      "Requirement already satisfied: catboost in c:\\users\\p3161234\\anaconda3\\lib\\site-packages (1.1.1)\n",
      "Requirement already satisfied: graphviz in c:\\users\\p3161234\\anaconda3\\lib\\site-packages (from catboost) (0.20.1)\n",
      "Requirement already satisfied: matplotlib in c:\\users\\p3161234\\anaconda3\\lib\\site-packages (from catboost) (3.5.2)\n",
      "Requirement already satisfied: numpy>=1.16.0 in c:\\users\\p3161234\\anaconda3\\lib\\site-packages (from catboost) (1.21.5)\n",
      "Requirement already satisfied: pandas>=0.24.0 in c:\\users\\p3161234\\anaconda3\\lib\\site-packages (from catboost) (1.4.4)\n",
      "Requirement already satisfied: plotly in c:\\users\\p3161234\\anaconda3\\lib\\site-packages (from catboost) (5.9.0)\n",
      "Requirement already satisfied: six in c:\\users\\p3161234\\anaconda3\\lib\\site-packages (from catboost) (1.16.0)\n",
      "Requirement already satisfied: scipy in c:\\users\\p3161234\\anaconda3\\lib\\site-packages (from catboost) (1.9.1)\n",
      "Requirement already satisfied: pytz>=2020.1 in c:\\users\\p3161234\\anaconda3\\lib\\site-packages (from pandas>=0.24.0->catboost) (2022.1)\n",
      "Requirement already satisfied: python-dateutil>=2.8.1 in c:\\users\\p3161234\\anaconda3\\lib\\site-packages (from pandas>=0.24.0->catboost) (2.8.2)\n",
      "Requirement already satisfied: kiwisolver>=1.0.1 in c:\\users\\p3161234\\anaconda3\\lib\\site-packages (from matplotlib->catboost) (1.4.2)\n",
      "Requirement already satisfied: pyparsing>=2.2.1 in c:\\users\\p3161234\\anaconda3\\lib\\site-packages (from matplotlib->catboost) (3.0.9)\n",
      "Requirement already satisfied: packaging>=20.0 in c:\\users\\p3161234\\anaconda3\\lib\\site-packages (from matplotlib->catboost) (21.3)\n",
      "Requirement already satisfied: fonttools>=4.22.0 in c:\\users\\p3161234\\anaconda3\\lib\\site-packages (from matplotlib->catboost) (4.25.0)\n",
      "Requirement already satisfied: pillow>=6.2.0 in c:\\users\\p3161234\\anaconda3\\lib\\site-packages (from matplotlib->catboost) (9.2.0)\n",
      "Requirement already satisfied: cycler>=0.10 in c:\\users\\p3161234\\anaconda3\\lib\\site-packages (from matplotlib->catboost) (0.11.0)\n",
      "Requirement already satisfied: tenacity>=6.2.0 in c:\\users\\p3161234\\anaconda3\\lib\\site-packages (from plotly->catboost) (8.0.1)\n",
      "Requirement already satisfied: xgboost in c:\\users\\p3161234\\anaconda3\\lib\\site-packages (1.7.3)\n",
      "Requirement already satisfied: numpy in c:\\users\\p3161234\\anaconda3\\lib\\site-packages (from xgboost) (1.21.5)\n",
      "Requirement already satisfied: scipy in c:\\users\\p3161234\\anaconda3\\lib\\site-packages (from xgboost) (1.9.1)\n",
      "Collecting lightgbm\n",
      "  Downloading lightgbm-3.3.5-py3-none-win_amd64.whl (1.0 MB)\n",
      "     ---------------------------------------- 1.0/1.0 MB 1.8 MB/s eta 0:00:00\n",
      "Requirement already satisfied: scipy in c:\\users\\p3161234\\anaconda3\\lib\\site-packages (from lightgbm) (1.9.1)\n",
      "Requirement already satisfied: scikit-learn!=0.22.0 in c:\\users\\p3161234\\anaconda3\\lib\\site-packages (from lightgbm) (1.0.2)\n",
      "Requirement already satisfied: wheel in c:\\users\\p3161234\\anaconda3\\lib\\site-packages (from lightgbm) (0.37.1)\n",
      "Requirement already satisfied: numpy in c:\\users\\p3161234\\anaconda3\\lib\\site-packages (from lightgbm) (1.21.5)\n",
      "Requirement already satisfied: threadpoolctl>=2.0.0 in c:\\users\\p3161234\\anaconda3\\lib\\site-packages (from scikit-learn!=0.22.0->lightgbm) (2.2.0)\n",
      "Requirement already satisfied: joblib>=0.11 in c:\\users\\p3161234\\anaconda3\\lib\\site-packages (from scikit-learn!=0.22.0->lightgbm) (1.1.0)\n",
      "Installing collected packages: lightgbm\n",
      "Successfully installed lightgbm-3.3.5\n",
      "Collecting optuna\n",
      "  Downloading optuna-3.1.0-py3-none-any.whl (365 kB)\n",
      "     -------------------------------------- 365.3/365.3 kB 1.1 MB/s eta 0:00:00\n",
      "Requirement already satisfied: sqlalchemy>=1.3.0 in c:\\users\\p3161234\\anaconda3\\lib\\site-packages (from optuna) (1.4.39)\n",
      "Requirement already satisfied: numpy in c:\\users\\p3161234\\anaconda3\\lib\\site-packages (from optuna) (1.21.5)\n",
      "Collecting colorlog\n",
      "  Downloading colorlog-6.7.0-py2.py3-none-any.whl (11 kB)\n",
      "Collecting alembic>=1.5.0\n",
      "  Downloading alembic-1.9.3-py3-none-any.whl (210 kB)\n",
      "     -------------------------------------- 210.6/210.6 kB 3.2 MB/s eta 0:00:00\n",
      "Requirement already satisfied: packaging>=20.0 in c:\\users\\p3161234\\anaconda3\\lib\\site-packages (from optuna) (21.3)\n",
      "Requirement already satisfied: PyYAML in c:\\users\\p3161234\\anaconda3\\lib\\site-packages (from optuna) (6.0)\n",
      "Collecting cmaes>=0.9.1\n",
      "  Downloading cmaes-0.9.1-py3-none-any.whl (21 kB)\n",
      "Requirement already satisfied: tqdm in c:\\users\\p3161234\\anaconda3\\lib\\site-packages (from optuna) (4.64.1)\n",
      "Collecting Mako\n",
      "  Downloading Mako-1.2.4-py3-none-any.whl (78 kB)\n",
      "     ---------------------------------------- 78.7/78.7 kB 2.2 MB/s eta 0:00:00\n",
      "Requirement already satisfied: pyparsing!=3.0.5,>=2.0.2 in c:\\users\\p3161234\\anaconda3\\lib\\site-packages (from packaging>=20.0->optuna) (3.0.9)\n",
      "Requirement already satisfied: greenlet!=0.4.17 in c:\\users\\p3161234\\anaconda3\\lib\\site-packages (from sqlalchemy>=1.3.0->optuna) (1.1.1)\n",
      "Requirement already satisfied: colorama in c:\\users\\p3161234\\anaconda3\\lib\\site-packages (from colorlog->optuna) (0.4.5)\n",
      "Requirement already satisfied: MarkupSafe>=0.9.2 in c:\\users\\p3161234\\anaconda3\\lib\\site-packages (from Mako->alembic>=1.5.0->optuna) (2.0.1)\n",
      "Installing collected packages: Mako, colorlog, cmaes, alembic, optuna\n",
      "Successfully installed Mako-1.2.4 alembic-1.9.3 cmaes-0.9.1 colorlog-6.7.0 optuna-3.1.0\n"
     ]
    }
   ],
   "source": [
    "\"\"\"Import basic modules.\"\"\"\n",
    "import math\n",
    "import os\n",
    "import gc\n",
    "import random\n",
    "import pprint\n",
    "import numpy as np               # For linear algebra\n",
    "import pandas as pd              # For data manipulation\n",
    "import matplotlib.pyplot as plt  # For 2D visualization\n",
    "import seaborn as sns\n",
    "\n",
    "# Warning Libraries \n",
    "import warnings\n",
    "warnings.filterwarnings(\"ignore\")\n",
    "# warnings.simplefilter(action='ignore', category=FutureWarning)\n",
    "\n",
    "from collections import Counter\n",
    "from scipy import stats                         # For statistics\n",
    "from scipy.stats.contingency import association # upgrade scipy to use this to calculate Cramer's V\n",
    "\n",
    "\"\"\"Plotly visualization\"\"\"\n",
    "import plotly.graph_objs as go\n",
    "import plotly.express as px\n",
    "import plotly.io as pio\n",
    "from plotly.subplots import make_subplots\n",
    "from plotly.offline import init_notebook_mode, iplot\n",
    "  \n",
    "\n",
    "\n",
    "from sklearn.preprocessing import OrdinalEncoder, OneHotEncoder, LabelEncoder, StandardScaler, MinMaxScaler, RobustScaler, MaxAbsScaler\n",
    "from sklearn.preprocessing import PowerTransformer # convert to Gaussian-like data\n",
    "from sklearn.feature_selection import SelectKBest, f_classif, chi2\n",
    "\n",
    "from sklearn.model_selection import StratifiedShuffleSplit, StratifiedKFold, RepeatedStratifiedKFold, train_test_split, cross_val_score\n",
    "from sklearn.pipeline import Pipeline, make_pipeline\n",
    "\n",
    "#from imblearn.over_sampling import SMOTE\n",
    "#from imblearn.under_sampling import RandomUnderSampler\n",
    "\n",
    "# Algorithms\n",
    "from sklearn.ensemble import StackingClassifier, RandomForestClassifier, ExtraTreesClassifier\n",
    "from sklearn.linear_model import LogisticRegression\n",
    "from sklearn.neighbors import KNeighborsClassifier\n",
    "from sklearn.svm import SVC\n",
    "\n",
    "# Boosting Algorithms \n",
    "!pip install catboost\n",
    "!pip install xgboost\n",
    "from xgboost                          import XGBClassifier\n",
    "from catboost                         import CatBoostClassifier, Pool\n",
    "!pip install lightgbm\n",
    "from lightgbm                         import LGBMClassifier\n",
    "\n",
    "!pip install optuna\n",
    "\n",
    "import optuna\n",
    "from optuna.visualization import plot_optimization_history, plot_param_importances\n",
    "\n",
    "import multiprocessing\n",
    "import pickle, joblib\n",
    "from sklearn.metrics import matthews_corrcoef, roc_auc_score, precision_recall_curve, confusion_matrix, classification_report, roc_curve, auc\n",
    "\n",
    "from sklearn.utils import resample\n",
    "from IPython.display import Markdown, display\n",
    "\n",
    "# utility function to print markdown string\n",
    "def printmd(string):\n",
    "    display(Markdown(string))\n",
    "\n",
    "# customize as needed\n",
    "plt_params = {\n",
    "    # 'figure.facecolor': 'white',\n",
    "    'axes.facecolor' : 'white',\n",
    "\n",
    "    ## to set size \n",
    "    # 'legend.fontsize': 'x-large',\n",
    "    # 'figure.figsize': (15, 10),\n",
    "    # 'axes.labelsize': 'x-large',\n",
    "    # 'axes.titlesize': 'x-large',\n",
    "    # 'xtick.labelsize': 'x-large',\n",
    "    # 'ytick.labelsize': 'x-large'\n",
    "}\n",
    "\n",
    "plt.rcParams.update(plt_params)\n",
    "\n",
    "sns.set_style('whitegrid')\n",
    "\n",
    "# init_notebook_mode(connected=True)\n",
    "# pio.renderers.default='notebook' # to display plotly graph\n",
    "%matplotlib inline"
   ]
  },
  {
   "cell_type": "code",
   "execution_count": 4,
   "id": "534f7ed5",
   "metadata": {},
   "outputs": [
    {
     "data": {
      "text/html": [
       "<div>\n",
       "<style scoped>\n",
       "    .dataframe tbody tr th:only-of-type {\n",
       "        vertical-align: middle;\n",
       "    }\n",
       "\n",
       "    .dataframe tbody tr th {\n",
       "        vertical-align: top;\n",
       "    }\n",
       "\n",
       "    .dataframe thead th {\n",
       "        text-align: right;\n",
       "    }\n",
       "</style>\n",
       "<table border=\"1\" class=\"dataframe\">\n",
       "  <thead>\n",
       "    <tr style=\"text-align: right;\">\n",
       "      <th></th>\n",
       "      <th>Annonymized ID</th>\n",
       "      <th>Employee Status</th>\n",
       "      <th>Employee Type</th>\n",
       "      <th>Current Hire Date</th>\n",
       "      <th>Continuous Service Date</th>\n",
       "      <th>Termination Date</th>\n",
       "      <th>Years of Service</th>\n",
       "      <th>Term Category</th>\n",
       "      <th>Termination Reason</th>\n",
       "      <th>Location</th>\n",
       "      <th>...</th>\n",
       "      <th>Organization</th>\n",
       "      <th>Compa Ratio</th>\n",
       "      <th>Marital Status</th>\n",
       "      <th>Age (Term by Term Date, Active by Today)</th>\n",
       "      <th>Generation</th>\n",
       "      <th>Race/Ethnicity</th>\n",
       "      <th>Gender</th>\n",
       "      <th>Base Pay Mid Point Annualized USD</th>\n",
       "      <th>Last Promotion Date</th>\n",
       "      <th>Cost to Replace Employee Multiplier</th>\n",
       "    </tr>\n",
       "  </thead>\n",
       "  <tbody>\n",
       "    <tr>\n",
       "      <th>0</th>\n",
       "      <td>1111.0</td>\n",
       "      <td>Terminated</td>\n",
       "      <td>Regular</td>\n",
       "      <td>1991-04-29</td>\n",
       "      <td>1991-04-29</td>\n",
       "      <td>2020-08-04</td>\n",
       "      <td>29.3</td>\n",
       "      <td>Involuntary Termination</td>\n",
       "      <td>Position Elimination / RIF Involuntary</td>\n",
       "      <td>Shakopee United States</td>\n",
       "      <td>...</td>\n",
       "      <td>None</td>\n",
       "      <td>0.841</td>\n",
       "      <td>Married</td>\n",
       "      <td>59.0</td>\n",
       "      <td>Boomer</td>\n",
       "      <td>White, not Hispanic or Latino</td>\n",
       "      <td>Male</td>\n",
       "      <td>250036.80</td>\n",
       "      <td>2003-09-22</td>\n",
       "      <td>1.25</td>\n",
       "    </tr>\n",
       "    <tr>\n",
       "      <th>1</th>\n",
       "      <td>1112.0</td>\n",
       "      <td>Terminated</td>\n",
       "      <td>Regular</td>\n",
       "      <td>1993-07-01</td>\n",
       "      <td>1993-07-01</td>\n",
       "      <td>2018-07-11</td>\n",
       "      <td>25.0</td>\n",
       "      <td>Voluntary Termination</td>\n",
       "      <td>Change of Career Direction</td>\n",
       "      <td>Woodlands Singapore W3</td>\n",
       "      <td>...</td>\n",
       "      <td>None</td>\n",
       "      <td>1.017</td>\n",
       "      <td>Married</td>\n",
       "      <td>54.0</td>\n",
       "      <td>Gen X</td>\n",
       "      <td>Chinese</td>\n",
       "      <td>Male</td>\n",
       "      <td>203097.98</td>\n",
       "      <td>2010-07-01</td>\n",
       "      <td>1.25</td>\n",
       "    </tr>\n",
       "    <tr>\n",
       "      <th>2</th>\n",
       "      <td>1113.0</td>\n",
       "      <td>Terminated</td>\n",
       "      <td>Regular</td>\n",
       "      <td>1989-07-05</td>\n",
       "      <td>1989-07-05</td>\n",
       "      <td>2017-09-22</td>\n",
       "      <td>28.2</td>\n",
       "      <td>Involuntary Termination</td>\n",
       "      <td>Position Elimination / RIF Voluntary</td>\n",
       "      <td>Penang Malaysia</td>\n",
       "      <td>...</td>\n",
       "      <td>None</td>\n",
       "      <td>0.890</td>\n",
       "      <td>Married</td>\n",
       "      <td>58.0</td>\n",
       "      <td>Boomer</td>\n",
       "      <td>Chinese</td>\n",
       "      <td>Female</td>\n",
       "      <td>50178.00</td>\n",
       "      <td>NaT</td>\n",
       "      <td>1.25</td>\n",
       "    </tr>\n",
       "    <tr>\n",
       "      <th>3</th>\n",
       "      <td>1114.0</td>\n",
       "      <td>Active</td>\n",
       "      <td>Regular</td>\n",
       "      <td>1984-02-15</td>\n",
       "      <td>1984-02-15</td>\n",
       "      <td>NaT</td>\n",
       "      <td>38.8</td>\n",
       "      <td>None</td>\n",
       "      <td>None</td>\n",
       "      <td>Shugart Singapore</td>\n",
       "      <td>...</td>\n",
       "      <td>Account Management</td>\n",
       "      <td>1.070</td>\n",
       "      <td>Married</td>\n",
       "      <td>56.0</td>\n",
       "      <td>Gen X</td>\n",
       "      <td>Chinese</td>\n",
       "      <td>Female</td>\n",
       "      <td>56514.22</td>\n",
       "      <td>NaT</td>\n",
       "      <td>1.25</td>\n",
       "    </tr>\n",
       "    <tr>\n",
       "      <th>4</th>\n",
       "      <td>1115.0</td>\n",
       "      <td>Terminated</td>\n",
       "      <td>Regular</td>\n",
       "      <td>1987-04-22</td>\n",
       "      <td>1987-04-22</td>\n",
       "      <td>2018-09-14</td>\n",
       "      <td>31.4</td>\n",
       "      <td>Involuntary Termination</td>\n",
       "      <td>Position Elimination / RIF Involuntary</td>\n",
       "      <td>Shugart Singapore</td>\n",
       "      <td>...</td>\n",
       "      <td>Account Management</td>\n",
       "      <td>0.788</td>\n",
       "      <td>Married</td>\n",
       "      <td>64.0</td>\n",
       "      <td>Boomer</td>\n",
       "      <td>Chinese</td>\n",
       "      <td>Female</td>\n",
       "      <td>92718.64</td>\n",
       "      <td>2011-07-01</td>\n",
       "      <td>1.25</td>\n",
       "    </tr>\n",
       "    <tr>\n",
       "      <th>...</th>\n",
       "      <td>...</td>\n",
       "      <td>...</td>\n",
       "      <td>...</td>\n",
       "      <td>...</td>\n",
       "      <td>...</td>\n",
       "      <td>...</td>\n",
       "      <td>...</td>\n",
       "      <td>...</td>\n",
       "      <td>...</td>\n",
       "      <td>...</td>\n",
       "      <td>...</td>\n",
       "      <td>...</td>\n",
       "      <td>...</td>\n",
       "      <td>...</td>\n",
       "      <td>...</td>\n",
       "      <td>...</td>\n",
       "      <td>...</td>\n",
       "      <td>...</td>\n",
       "      <td>...</td>\n",
       "      <td>...</td>\n",
       "      <td>...</td>\n",
       "    </tr>\n",
       "    <tr>\n",
       "      <th>25782</th>\n",
       "      <td>26893.0</td>\n",
       "      <td>Terminated</td>\n",
       "      <td>Regular</td>\n",
       "      <td>2020-03-09</td>\n",
       "      <td>2020-03-09</td>\n",
       "      <td>2021-06-14</td>\n",
       "      <td>1.3</td>\n",
       "      <td>Voluntary Termination</td>\n",
       "      <td>Career Advancement</td>\n",
       "      <td>Pune India</td>\n",
       "      <td>...</td>\n",
       "      <td>Xyratex</td>\n",
       "      <td>1.247</td>\n",
       "      <td>Married</td>\n",
       "      <td>36.0</td>\n",
       "      <td>Millennial</td>\n",
       "      <td>None</td>\n",
       "      <td>Male</td>\n",
       "      <td>21286.67</td>\n",
       "      <td>NaT</td>\n",
       "      <td>1.25</td>\n",
       "    </tr>\n",
       "    <tr>\n",
       "      <th>25783</th>\n",
       "      <td>26894.0</td>\n",
       "      <td>Terminated</td>\n",
       "      <td>Regular</td>\n",
       "      <td>2021-04-08</td>\n",
       "      <td>2021-04-08</td>\n",
       "      <td>2022-03-25</td>\n",
       "      <td>1.0</td>\n",
       "      <td>Voluntary Termination</td>\n",
       "      <td>Health Reasons</td>\n",
       "      <td>Pune India</td>\n",
       "      <td>...</td>\n",
       "      <td>Xyratex</td>\n",
       "      <td>0.830</td>\n",
       "      <td>Married</td>\n",
       "      <td>39.0</td>\n",
       "      <td>Millennial</td>\n",
       "      <td>None</td>\n",
       "      <td>Male</td>\n",
       "      <td>78195.94</td>\n",
       "      <td>NaT</td>\n",
       "      <td>1.25</td>\n",
       "    </tr>\n",
       "    <tr>\n",
       "      <th>25784</th>\n",
       "      <td>26895.0</td>\n",
       "      <td>Active</td>\n",
       "      <td>Regular</td>\n",
       "      <td>2021-06-07</td>\n",
       "      <td>2021-06-07</td>\n",
       "      <td>2023-01-09</td>\n",
       "      <td>1.5</td>\n",
       "      <td>Involuntary Termination</td>\n",
       "      <td>Position Elimination / RIF Involuntary</td>\n",
       "      <td>Remote US Bay Area</td>\n",
       "      <td>...</td>\n",
       "      <td>Xyratex</td>\n",
       "      <td>0.918</td>\n",
       "      <td>Single</td>\n",
       "      <td>24.0</td>\n",
       "      <td>Gen Z</td>\n",
       "      <td>Asian, not Hispanic or Latino</td>\n",
       "      <td>Female</td>\n",
       "      <td>75004.80</td>\n",
       "      <td>2021-08-23</td>\n",
       "      <td>1.25</td>\n",
       "    </tr>\n",
       "    <tr>\n",
       "      <th>25785</th>\n",
       "      <td>26896.0</td>\n",
       "      <td>Active</td>\n",
       "      <td>Regular</td>\n",
       "      <td>2021-09-27</td>\n",
       "      <td>2021-09-27</td>\n",
       "      <td>NaT</td>\n",
       "      <td>1.2</td>\n",
       "      <td>None</td>\n",
       "      <td>None</td>\n",
       "      <td>Remote US Bay Area</td>\n",
       "      <td>...</td>\n",
       "      <td>Xyratex</td>\n",
       "      <td>1.087</td>\n",
       "      <td>Married</td>\n",
       "      <td>56.0</td>\n",
       "      <td>Gen X</td>\n",
       "      <td>White, not Hispanic or Latino</td>\n",
       "      <td>Male</td>\n",
       "      <td>103001.60</td>\n",
       "      <td>NaT</td>\n",
       "      <td>1.25</td>\n",
       "    </tr>\n",
       "    <tr>\n",
       "      <th>25786</th>\n",
       "      <td>26897.0</td>\n",
       "      <td>Active</td>\n",
       "      <td>Regular</td>\n",
       "      <td>2022-03-08</td>\n",
       "      <td>2022-03-08</td>\n",
       "      <td>NaT</td>\n",
       "      <td>0.8</td>\n",
       "      <td>None</td>\n",
       "      <td>None</td>\n",
       "      <td>Remote Mexico</td>\n",
       "      <td>...</td>\n",
       "      <td>Xyratex</td>\n",
       "      <td>1.245</td>\n",
       "      <td>Single</td>\n",
       "      <td>29.0</td>\n",
       "      <td>Millennial</td>\n",
       "      <td>None</td>\n",
       "      <td>Female</td>\n",
       "      <td>24014.03</td>\n",
       "      <td>NaT</td>\n",
       "      <td>1.25</td>\n",
       "    </tr>\n",
       "  </tbody>\n",
       "</table>\n",
       "<p>25787 rows × 31 columns</p>\n",
       "</div>"
      ],
      "text/plain": [
       "       Annonymized ID Employee Status Employee Type Current Hire Date  \\\n",
       "0              1111.0      Terminated       Regular        1991-04-29   \n",
       "1              1112.0      Terminated       Regular        1993-07-01   \n",
       "2              1113.0      Terminated       Regular        1989-07-05   \n",
       "3              1114.0          Active       Regular        1984-02-15   \n",
       "4              1115.0      Terminated       Regular        1987-04-22   \n",
       "...               ...             ...           ...               ...   \n",
       "25782         26893.0      Terminated       Regular        2020-03-09   \n",
       "25783         26894.0      Terminated       Regular        2021-04-08   \n",
       "25784         26895.0          Active       Regular        2021-06-07   \n",
       "25785         26896.0          Active       Regular        2021-09-27   \n",
       "25786         26897.0          Active       Regular        2022-03-08   \n",
       "\n",
       "      Continuous Service Date Termination Date  Years of Service  \\\n",
       "0                  1991-04-29       2020-08-04              29.3   \n",
       "1                  1993-07-01       2018-07-11              25.0   \n",
       "2                  1989-07-05       2017-09-22              28.2   \n",
       "3                  1984-02-15              NaT              38.8   \n",
       "4                  1987-04-22       2018-09-14              31.4   \n",
       "...                       ...              ...               ...   \n",
       "25782              2020-03-09       2021-06-14               1.3   \n",
       "25783              2021-04-08       2022-03-25               1.0   \n",
       "25784              2021-06-07       2023-01-09               1.5   \n",
       "25785              2021-09-27              NaT               1.2   \n",
       "25786              2022-03-08              NaT               0.8   \n",
       "\n",
       "                 Term Category                      Termination Reason  \\\n",
       "0      Involuntary Termination  Position Elimination / RIF Involuntary   \n",
       "1        Voluntary Termination              Change of Career Direction   \n",
       "2      Involuntary Termination    Position Elimination / RIF Voluntary   \n",
       "3                         None                                    None   \n",
       "4      Involuntary Termination  Position Elimination / RIF Involuntary   \n",
       "...                        ...                                     ...   \n",
       "25782    Voluntary Termination                      Career Advancement   \n",
       "25783    Voluntary Termination                          Health Reasons   \n",
       "25784  Involuntary Termination  Position Elimination / RIF Involuntary   \n",
       "25785                     None                                    None   \n",
       "25786                     None                                    None   \n",
       "\n",
       "                     Location  ...        Organization Compa Ratio  \\\n",
       "0      Shakopee United States  ...                None       0.841   \n",
       "1      Woodlands Singapore W3  ...                None       1.017   \n",
       "2             Penang Malaysia  ...                None       0.890   \n",
       "3           Shugart Singapore  ...  Account Management       1.070   \n",
       "4           Shugart Singapore  ...  Account Management       0.788   \n",
       "...                       ...  ...                 ...         ...   \n",
       "25782              Pune India  ...             Xyratex       1.247   \n",
       "25783              Pune India  ...             Xyratex       0.830   \n",
       "25784      Remote US Bay Area  ...             Xyratex       0.918   \n",
       "25785      Remote US Bay Area  ...             Xyratex       1.087   \n",
       "25786           Remote Mexico  ...             Xyratex       1.245   \n",
       "\n",
       "      Marital Status Age (Term by Term Date, Active by Today)  Generation  \\\n",
       "0            Married                                     59.0      Boomer   \n",
       "1            Married                                     54.0       Gen X   \n",
       "2            Married                                     58.0      Boomer   \n",
       "3            Married                                     56.0       Gen X   \n",
       "4            Married                                     64.0      Boomer   \n",
       "...              ...                                      ...         ...   \n",
       "25782        Married                                     36.0  Millennial   \n",
       "25783        Married                                     39.0  Millennial   \n",
       "25784         Single                                     24.0       Gen Z   \n",
       "25785        Married                                     56.0       Gen X   \n",
       "25786         Single                                     29.0  Millennial   \n",
       "\n",
       "                      Race/Ethnicity  Gender  \\\n",
       "0      White, not Hispanic or Latino    Male   \n",
       "1                            Chinese    Male   \n",
       "2                            Chinese  Female   \n",
       "3                            Chinese  Female   \n",
       "4                            Chinese  Female   \n",
       "...                              ...     ...   \n",
       "25782                           None    Male   \n",
       "25783                           None    Male   \n",
       "25784  Asian, not Hispanic or Latino  Female   \n",
       "25785  White, not Hispanic or Latino    Male   \n",
       "25786                           None  Female   \n",
       "\n",
       "      Base Pay Mid Point Annualized USD Last Promotion Date  \\\n",
       "0                             250036.80          2003-09-22   \n",
       "1                             203097.98          2010-07-01   \n",
       "2                              50178.00                 NaT   \n",
       "3                              56514.22                 NaT   \n",
       "4                              92718.64          2011-07-01   \n",
       "...                                 ...                 ...   \n",
       "25782                          21286.67                 NaT   \n",
       "25783                          78195.94                 NaT   \n",
       "25784                          75004.80          2021-08-23   \n",
       "25785                         103001.60                 NaT   \n",
       "25786                          24014.03                 NaT   \n",
       "\n",
       "      Cost to Replace Employee Multiplier  \n",
       "0                                    1.25  \n",
       "1                                    1.25  \n",
       "2                                    1.25  \n",
       "3                                    1.25  \n",
       "4                                    1.25  \n",
       "...                                   ...  \n",
       "25782                                1.25  \n",
       "25783                                1.25  \n",
       "25784                                1.25  \n",
       "25785                                1.25  \n",
       "25786                                1.25  \n",
       "\n",
       "[25787 rows x 31 columns]"
      ]
     },
     "execution_count": 4,
     "metadata": {},
     "output_type": "execute_result"
    }
   ],
   "source": [
    "import pandas as pd\n",
    "import xlwings as xw\n",
    "\n",
    "PATH = 'Seagate dataset for Leeds.xlsx'\n",
    "wb = xw.Book(PATH)\n",
    "sheet = wb.sheets['Excel Output']\n",
    "\n",
    "employee_df = sheet['A1:AE25788'].options(pd.DataFrame, index=False, header=True).value\n",
    "employee_df"
   ]
  },
  {
   "cell_type": "code",
   "execution_count": 68,
   "id": "4b0f7a72",
   "metadata": {},
   "outputs": [
    {
     "name": "stdout",
     "output_type": "stream",
     "text": [
      "<class 'pandas.core.frame.DataFrame'>\n",
      "RangeIndex: 25787 entries, 0 to 25786\n",
      "Data columns (total 31 columns):\n",
      " #   Column                               Non-Null Count  Dtype         \n",
      "---  ------                               --------------  -----         \n",
      " 0   Employee Status                      25787 non-null  object        \n",
      " 1   Employee Type                        25787 non-null  object        \n",
      " 2   Current Hire Date                    25787 non-null  datetime64[ns]\n",
      " 3   Continuous Service Date              25787 non-null  datetime64[ns]\n",
      " 4   Termination Date                     10951 non-null  datetime64[ns]\n",
      " 5   Years of Service                     25787 non-null  float64       \n",
      " 6   Term Category                        10950 non-null  object        \n",
      " 7   Termination Reason                   10950 non-null  object        \n",
      " 8   Location                             25787 non-null  object        \n",
      " 9   Country                              25787 non-null  object        \n",
      " 10  Region                               25787 non-null  object        \n",
      " 11  Job Code                             25787 non-null  object        \n",
      " 12  Job Title                            25787 non-null  object        \n",
      " 13  Job Category                         25787 non-null  object        \n",
      " 14  Job Function                         25787 non-null  object        \n",
      " 15  Job Family                           25787 non-null  object        \n",
      " 16  Management Level                     25787 non-null  object        \n",
      " 17  Pay Level                            25787 non-null  object        \n",
      " 18  Work Structure                       16803 non-null  object        \n",
      " 19  Pay Grade                            25787 non-null  object        \n",
      " 20  Organization                         25784 non-null  object        \n",
      " 21  Compa Ratio                          25787 non-null  float64       \n",
      " 22  Marital Status                       25309 non-null  object        \n",
      " 23  Age                                  25787 non-null  float64       \n",
      " 24  Generation                           25787 non-null  object        \n",
      " 25  Race/Ethnicity                       19889 non-null  object        \n",
      " 26  Gender                               25787 non-null  object        \n",
      " 27  Base Pay Mid Point Annualized USD    25787 non-null  float64       \n",
      " 28  Last Promotion Date                  14815 non-null  datetime64[ns]\n",
      " 29  Cost to Replace Employee Multiplier  25787 non-null  float64       \n",
      " 30  Employee Status Ind                  25787 non-null  int64         \n",
      "dtypes: datetime64[ns](4), float64(5), int64(1), object(21)\n",
      "memory usage: 6.1+ MB\n"
     ]
    }
   ],
   "source": [
    "employee_df.info()"
   ]
  },
  {
   "cell_type": "markdown",
   "id": "7c8665d5",
   "metadata": {},
   "source": [
    "“Employee Status” columns indicate “Terminated” if the employee quit the job and “Active” employee are still at the company. We should convert this 1 and 0 for use in the machine learning model."
   ]
  },
  {
   "cell_type": "code",
   "execution_count": 6,
   "id": "2d53e4cb",
   "metadata": {},
   "outputs": [
    {
     "data": {
      "text/html": [
       "<div>\n",
       "<style scoped>\n",
       "    .dataframe tbody tr th:only-of-type {\n",
       "        vertical-align: middle;\n",
       "    }\n",
       "\n",
       "    .dataframe tbody tr th {\n",
       "        vertical-align: top;\n",
       "    }\n",
       "\n",
       "    .dataframe thead th {\n",
       "        text-align: right;\n",
       "    }\n",
       "</style>\n",
       "<table border=\"1\" class=\"dataframe\">\n",
       "  <thead>\n",
       "    <tr style=\"text-align: right;\">\n",
       "      <th></th>\n",
       "      <th>Annonymized ID</th>\n",
       "      <th>Years of Service</th>\n",
       "      <th>Compa Ratio</th>\n",
       "      <th>Age (Term by Term Date, Active by Today)</th>\n",
       "      <th>Base Pay Mid Point Annualized USD</th>\n",
       "      <th>Cost to Replace Employee Multiplier</th>\n",
       "    </tr>\n",
       "  </thead>\n",
       "  <tbody>\n",
       "    <tr>\n",
       "      <th>count</th>\n",
       "      <td>25787.000000</td>\n",
       "      <td>25787.000000</td>\n",
       "      <td>25787.000000</td>\n",
       "      <td>25787.000000</td>\n",
       "      <td>2.578700e+04</td>\n",
       "      <td>25787.000000</td>\n",
       "    </tr>\n",
       "    <tr>\n",
       "      <th>mean</th>\n",
       "      <td>14004.000000</td>\n",
       "      <td>11.811905</td>\n",
       "      <td>0.925558</td>\n",
       "      <td>44.060767</td>\n",
       "      <td>6.711102e+04</td>\n",
       "      <td>1.021416</td>\n",
       "    </tr>\n",
       "    <tr>\n",
       "      <th>std</th>\n",
       "      <td>7444.210032</td>\n",
       "      <td>9.636358</td>\n",
       "      <td>0.283949</td>\n",
       "      <td>11.198303</td>\n",
       "      <td>6.610552e+04</td>\n",
       "      <td>0.365830</td>\n",
       "    </tr>\n",
       "    <tr>\n",
       "      <th>min</th>\n",
       "      <td>1111.000000</td>\n",
       "      <td>0.000000</td>\n",
       "      <td>0.438000</td>\n",
       "      <td>20.000000</td>\n",
       "      <td>0.000000e+00</td>\n",
       "      <td>0.500000</td>\n",
       "    </tr>\n",
       "    <tr>\n",
       "      <th>25%</th>\n",
       "      <td>7557.500000</td>\n",
       "      <td>3.800000</td>\n",
       "      <td>0.839000</td>\n",
       "      <td>35.000000</td>\n",
       "      <td>1.580150e+04</td>\n",
       "      <td>0.500000</td>\n",
       "    </tr>\n",
       "    <tr>\n",
       "      <th>50%</th>\n",
       "      <td>14004.000000</td>\n",
       "      <td>9.500000</td>\n",
       "      <td>0.918000</td>\n",
       "      <td>43.000000</td>\n",
       "      <td>3.938759e+04</td>\n",
       "      <td>1.250000</td>\n",
       "    </tr>\n",
       "    <tr>\n",
       "      <th>75%</th>\n",
       "      <td>20450.500000</td>\n",
       "      <td>17.800000</td>\n",
       "      <td>0.998000</td>\n",
       "      <td>52.000000</td>\n",
       "      <td>9.889989e+04</td>\n",
       "      <td>1.250000</td>\n",
       "    </tr>\n",
       "    <tr>\n",
       "      <th>max</th>\n",
       "      <td>26897.000000</td>\n",
       "      <td>54.100000</td>\n",
       "      <td>13.123000</td>\n",
       "      <td>86.000000</td>\n",
       "      <td>1.100008e+06</td>\n",
       "      <td>2.500000</td>\n",
       "    </tr>\n",
       "  </tbody>\n",
       "</table>\n",
       "</div>"
      ],
      "text/plain": [
       "       Annonymized ID  Years of Service   Compa Ratio  \\\n",
       "count    25787.000000      25787.000000  25787.000000   \n",
       "mean     14004.000000         11.811905      0.925558   \n",
       "std       7444.210032          9.636358      0.283949   \n",
       "min       1111.000000          0.000000      0.438000   \n",
       "25%       7557.500000          3.800000      0.839000   \n",
       "50%      14004.000000          9.500000      0.918000   \n",
       "75%      20450.500000         17.800000      0.998000   \n",
       "max      26897.000000         54.100000     13.123000   \n",
       "\n",
       "       Age (Term by Term Date, Active by Today)  \\\n",
       "count                              25787.000000   \n",
       "mean                                  44.060767   \n",
       "std                                   11.198303   \n",
       "min                                   20.000000   \n",
       "25%                                   35.000000   \n",
       "50%                                   43.000000   \n",
       "75%                                   52.000000   \n",
       "max                                   86.000000   \n",
       "\n",
       "       Base Pay Mid Point Annualized USD  Cost to Replace Employee Multiplier  \n",
       "count                       2.578700e+04                         25787.000000  \n",
       "mean                        6.711102e+04                             1.021416  \n",
       "std                         6.610552e+04                             0.365830  \n",
       "min                         0.000000e+00                             0.500000  \n",
       "25%                         1.580150e+04                             0.500000  \n",
       "50%                         3.938759e+04                             1.250000  \n",
       "75%                         9.889989e+04                             1.250000  \n",
       "max                         1.100008e+06                             2.500000  "
      ]
     },
     "execution_count": 6,
     "metadata": {},
     "output_type": "execute_result"
    }
   ],
   "source": [
    "employee_df.describe()"
   ]
  },
  {
   "cell_type": "code",
   "execution_count": 37,
   "id": "702fcb55",
   "metadata": {},
   "outputs": [],
   "source": [
    "del employee_df[\"Annonymized ID\"]\n"
   ]
  },
  {
   "cell_type": "markdown",
   "id": "65f2f942",
   "metadata": {},
   "source": [
    "# Summary of Categorical Features"
   ]
  },
  {
   "cell_type": "code",
   "execution_count": 38,
   "id": "1608db9e",
   "metadata": {},
   "outputs": [
    {
     "data": {
      "text/html": [
       "<div>\n",
       "<style scoped>\n",
       "    .dataframe tbody tr th:only-of-type {\n",
       "        vertical-align: middle;\n",
       "    }\n",
       "\n",
       "    .dataframe tbody tr th {\n",
       "        vertical-align: top;\n",
       "    }\n",
       "\n",
       "    .dataframe thead th {\n",
       "        text-align: right;\n",
       "    }\n",
       "</style>\n",
       "<table border=\"1\" class=\"dataframe\">\n",
       "  <thead>\n",
       "    <tr style=\"text-align: right;\">\n",
       "      <th></th>\n",
       "      <th>count</th>\n",
       "      <th>unique</th>\n",
       "      <th>top</th>\n",
       "      <th>freq</th>\n",
       "    </tr>\n",
       "  </thead>\n",
       "  <tbody>\n",
       "    <tr>\n",
       "      <th>Employee Status</th>\n",
       "      <td>25787</td>\n",
       "      <td>3</td>\n",
       "      <td>Active</td>\n",
       "      <td>14987</td>\n",
       "    </tr>\n",
       "    <tr>\n",
       "      <th>Employee Type</th>\n",
       "      <td>25787</td>\n",
       "      <td>2</td>\n",
       "      <td>Regular</td>\n",
       "      <td>25771</td>\n",
       "    </tr>\n",
       "    <tr>\n",
       "      <th>Term Category</th>\n",
       "      <td>10950</td>\n",
       "      <td>4</td>\n",
       "      <td>Voluntary Termination</td>\n",
       "      <td>5590</td>\n",
       "    </tr>\n",
       "    <tr>\n",
       "      <th>Termination Reason</th>\n",
       "      <td>10950</td>\n",
       "      <td>37</td>\n",
       "      <td>Position Elimination / RIF Involuntary</td>\n",
       "      <td>3076</td>\n",
       "    </tr>\n",
       "    <tr>\n",
       "      <th>Location</th>\n",
       "      <td>25787</td>\n",
       "      <td>129</td>\n",
       "      <td>Korat Thailand</td>\n",
       "      <td>3626</td>\n",
       "    </tr>\n",
       "    <tr>\n",
       "      <th>Country</th>\n",
       "      <td>25787</td>\n",
       "      <td>27</td>\n",
       "      <td>United States</td>\n",
       "      <td>7664</td>\n",
       "    </tr>\n",
       "    <tr>\n",
       "      <th>Region</th>\n",
       "      <td>25787</td>\n",
       "      <td>3</td>\n",
       "      <td>Asia Pacific</td>\n",
       "      <td>16466</td>\n",
       "    </tr>\n",
       "    <tr>\n",
       "      <th>Job Code</th>\n",
       "      <td>25787</td>\n",
       "      <td>4404</td>\n",
       "      <td>1788_SGP</td>\n",
       "      <td>582</td>\n",
       "    </tr>\n",
       "    <tr>\n",
       "      <th>Job Title</th>\n",
       "      <td>25787</td>\n",
       "      <td>199</td>\n",
       "      <td>Sr Engineer</td>\n",
       "      <td>2459</td>\n",
       "    </tr>\n",
       "    <tr>\n",
       "      <th>Job Category</th>\n",
       "      <td>25787</td>\n",
       "      <td>12</td>\n",
       "      <td>Engineering Professional</td>\n",
       "      <td>8799</td>\n",
       "    </tr>\n",
       "    <tr>\n",
       "      <th>Job Function</th>\n",
       "      <td>25787</td>\n",
       "      <td>29</td>\n",
       "      <td>Engineering</td>\n",
       "      <td>10481</td>\n",
       "    </tr>\n",
       "    <tr>\n",
       "      <th>Job Family</th>\n",
       "      <td>25787</td>\n",
       "      <td>182</td>\n",
       "      <td>Prodn Equip Maint</td>\n",
       "      <td>5156</td>\n",
       "    </tr>\n",
       "    <tr>\n",
       "      <th>Management Level</th>\n",
       "      <td>25787</td>\n",
       "      <td>6</td>\n",
       "      <td>Professional</td>\n",
       "      <td>13301</td>\n",
       "    </tr>\n",
       "    <tr>\n",
       "      <th>Pay Level</th>\n",
       "      <td>25787</td>\n",
       "      <td>38</td>\n",
       "      <td>P3</td>\n",
       "      <td>3686</td>\n",
       "    </tr>\n",
       "    <tr>\n",
       "      <th>Work Structure</th>\n",
       "      <td>16803</td>\n",
       "      <td>3</td>\n",
       "      <td>Onsite</td>\n",
       "      <td>15595</td>\n",
       "    </tr>\n",
       "    <tr>\n",
       "      <th>Pay Grade</th>\n",
       "      <td>25787</td>\n",
       "      <td>588</td>\n",
       "      <td>P5_National United States</td>\n",
       "      <td>1031</td>\n",
       "    </tr>\n",
       "    <tr>\n",
       "      <th>Organization</th>\n",
       "      <td>25784</td>\n",
       "      <td>733</td>\n",
       "      <td>Media Test &amp; MDW Engineering</td>\n",
       "      <td>1089</td>\n",
       "    </tr>\n",
       "    <tr>\n",
       "      <th>Marital Status</th>\n",
       "      <td>25309</td>\n",
       "      <td>10</td>\n",
       "      <td>Married</td>\n",
       "      <td>15990</td>\n",
       "    </tr>\n",
       "    <tr>\n",
       "      <th>Generation</th>\n",
       "      <td>25787</td>\n",
       "      <td>5</td>\n",
       "      <td>Millennial</td>\n",
       "      <td>10986</td>\n",
       "    </tr>\n",
       "    <tr>\n",
       "      <th>Race/Ethnicity</th>\n",
       "      <td>19889</td>\n",
       "      <td>20</td>\n",
       "      <td>Thai</td>\n",
       "      <td>5592</td>\n",
       "    </tr>\n",
       "    <tr>\n",
       "      <th>Gender</th>\n",
       "      <td>25787</td>\n",
       "      <td>4</td>\n",
       "      <td>Male</td>\n",
       "      <td>18969</td>\n",
       "    </tr>\n",
       "  </tbody>\n",
       "</table>\n",
       "</div>"
      ],
      "text/plain": [
       "                    count unique                                     top  \\\n",
       "Employee Status     25787      3                                  Active   \n",
       "Employee Type       25787      2                                 Regular   \n",
       "Term Category       10950      4                   Voluntary Termination   \n",
       "Termination Reason  10950     37  Position Elimination / RIF Involuntary   \n",
       "Location            25787    129                          Korat Thailand   \n",
       "Country             25787     27                           United States   \n",
       "Region              25787      3                            Asia Pacific   \n",
       "Job Code            25787   4404                                1788_SGP   \n",
       "Job Title           25787    199                             Sr Engineer   \n",
       "Job Category        25787     12                Engineering Professional   \n",
       "Job Function        25787     29                             Engineering   \n",
       "Job Family          25787    182                       Prodn Equip Maint   \n",
       "Management Level    25787      6                            Professional   \n",
       "Pay Level           25787     38                                      P3   \n",
       "Work Structure      16803      3                                  Onsite   \n",
       "Pay Grade           25787    588               P5_National United States   \n",
       "Organization        25784    733            Media Test & MDW Engineering   \n",
       "Marital Status      25309     10                                 Married   \n",
       "Generation          25787      5                              Millennial   \n",
       "Race/Ethnicity      19889     20                                    Thai   \n",
       "Gender              25787      4                                    Male   \n",
       "\n",
       "                     freq  \n",
       "Employee Status     14987  \n",
       "Employee Type       25771  \n",
       "Term Category        5590  \n",
       "Termination Reason   3076  \n",
       "Location             3626  \n",
       "Country              7664  \n",
       "Region              16466  \n",
       "Job Code              582  \n",
       "Job Title            2459  \n",
       "Job Category         8799  \n",
       "Job Function        10481  \n",
       "Job Family           5156  \n",
       "Management Level    13301  \n",
       "Pay Level            3686  \n",
       "Work Structure      15595  \n",
       "Pay Grade            1031  \n",
       "Organization         1089  \n",
       "Marital Status      15990  \n",
       "Generation          10986  \n",
       "Race/Ethnicity       5592  \n",
       "Gender              18969  "
      ]
     },
     "execution_count": 38,
     "metadata": {},
     "output_type": "execute_result"
    }
   ],
   "source": [
    "employee_df.describe(include=['object']).T"
   ]
  },
  {
   "cell_type": "markdown",
   "id": "3d2e8afc",
   "metadata": {},
   "source": [
    "# Checking Duplicates"
   ]
  },
  {
   "cell_type": "code",
   "execution_count": 32,
   "id": "6b9e0e17",
   "metadata": {},
   "outputs": [
    {
     "name": "stdout",
     "output_type": "stream",
     "text": [
      "Known observations: 25787\n",
      "Unique observations: 25787\n"
     ]
    },
    {
     "data": {
      "text/markdown": [
       "**No duplicates Found!**"
      ],
      "text/plain": [
       "<IPython.core.display.Markdown object>"
      ]
     },
     "metadata": {},
     "output_type": "display_data"
    }
   ],
   "source": [
    "print('Known observations: {}\\nUnique observations: {}'.format(len(employee_df.index),len(employee_df.drop_duplicates().index)))\n",
    "\n",
    "printmd(\"**No duplicates Found!**\")\n",
    "     "
   ]
  },
  {
   "cell_type": "markdown",
   "id": "78847c45",
   "metadata": {},
   "source": [
    "# Data Wrangling"
   ]
  },
  {
   "cell_type": "markdown",
   "id": "9ccdce64",
   "metadata": {},
   "source": [
    "# Checking for Missing values"
   ]
  },
  {
   "cell_type": "code",
   "execution_count": 8,
   "id": "a3556251",
   "metadata": {},
   "outputs": [
    {
     "data": {
      "text/plain": [
       "Annonymized ID                                  0\n",
       "Employee Status                                 0\n",
       "Employee Type                                   0\n",
       "Current Hire Date                               0\n",
       "Continuous Service Date                         0\n",
       "Termination Date                            14836\n",
       "Years of Service                                0\n",
       "Term Category                               14837\n",
       "Termination Reason                          14837\n",
       "Location                                        0\n",
       "Country                                         0\n",
       "Region                                          0\n",
       "Job Code                                        0\n",
       "Job Title                                       0\n",
       "Job Category                                    0\n",
       "Job Function                                    0\n",
       "Job Family                                      0\n",
       "Management Level                                0\n",
       "Pay Level                                       0\n",
       "Work Structure                               8984\n",
       "Pay Grade                                       0\n",
       "Organization                                    3\n",
       "Compa Ratio                                     0\n",
       "Marital Status                                478\n",
       "Age (Term by Term Date, Active by Today)        0\n",
       "Generation                                      0\n",
       "Race/Ethnicity                               5898\n",
       "Gender                                          0\n",
       "Base Pay Mid Point Annualized USD               0\n",
       "Last Promotion Date                         10972\n",
       "Cost to Replace Employee Multiplier             0\n",
       "dtype: int64"
      ]
     },
     "execution_count": 8,
     "metadata": {},
     "output_type": "execute_result"
    }
   ],
   "source": [
    "# Missing Values\n",
    "employee_df.isna().sum()\n"
   ]
  },
  {
   "cell_type": "code",
   "execution_count": 26,
   "id": "200f53ba",
   "metadata": {},
   "outputs": [
    {
     "name": "stdout",
     "output_type": "stream",
     "text": [
      "['Current Hire Date', 'Continuous Service Date', 'Termination Date', 'Last Promotion Date']\n"
     ]
    }
   ],
   "source": [
    "# Get numeric columns\n",
    "datetime_cols = [col for col in employee_df.columns if employee_df[col].dtype in ['datetime64[ns]']]\n",
    "print(datetime_cols)\n",
    "# Output: ['col1', 'col2']"
   ]
  },
  {
   "cell_type": "code",
   "execution_count": 27,
   "id": "5f6231e6",
   "metadata": {},
   "outputs": [
    {
     "data": {
      "text/plain": [
       "{'Country',\n",
       " 'Employee Status',\n",
       " 'Employee Type',\n",
       " 'Gender',\n",
       " 'Generation',\n",
       " 'Job Category',\n",
       " 'Job Code',\n",
       " 'Job Family',\n",
       " 'Job Function',\n",
       " 'Job Title',\n",
       " 'Location',\n",
       " 'Management Level',\n",
       " 'Marital Status',\n",
       " 'Organization',\n",
       " 'Pay Grade',\n",
       " 'Pay Level',\n",
       " 'Race/Ethnicity',\n",
       " 'Region',\n",
       " 'Term Category',\n",
       " 'Termination Reason',\n",
       " 'Work Structure '}"
      ]
     },
     "execution_count": 27,
     "metadata": {},
     "output_type": "execute_result"
    }
   ],
   "source": [
    "# Checking Missing values for Categorical Variables \n",
    "\n",
    "cat_cols = set(employee_df.columns) - set(employee_df._get_numeric_data().columns) - set(datetime_cols)\n",
    "\n",
    "cat_cols"
   ]
  },
  {
   "cell_type": "code",
   "execution_count": 28,
   "id": "3bb123e8",
   "metadata": {},
   "outputs": [],
   "source": [
    "# padding value\n",
    "left_padding = 21\n",
    "\n",
    "# seed value\n",
    "SEED = 42"
   ]
  },
  {
   "cell_type": "code",
   "execution_count": 29,
   "id": "7c64c460",
   "metadata": {},
   "outputs": [
    {
     "name": "stdout",
     "output_type": "stream",
     "text": [
      "'**isna**' is only applicable for numerical data type<br>\n",
      "Checking missing values for object data type<br><br>\n",
      "Organization          0\n",
      "Job Function          0\n",
      "Pay Level             0\n",
      "Work Structure        0\n",
      "Pay Grade             0\n",
      "Gender                0\n",
      "Race/Ethnicity        0\n",
      "Management Level      0\n",
      "Region                0\n",
      "Term Category         0\n",
      "Job Code              0\n",
      "Job Family            0\n",
      "Country               0\n",
      "Employee Type         0\n",
      "Location              0\n",
      "Employee Status       0\n",
      "Termination Reason    0\n",
      "Job Title             0\n",
      "Marital Status        0\n",
      "Job Category          0\n",
      "Generation            0\n",
      "<br>TotalCharges is an object datatype, it has **11** 'nan' value\n"
     ]
    }
   ],
   "source": [
    "print(\"'**isna**' is only applicable for numerical data type<br>\")\n",
    "print(\"Checking missing values for object data type<br><br>\")\n",
    "\n",
    "for cat in cat_cols:\n",
    "    print(cat.ljust(left_padding), employee_df[cat].apply(lambda x: x is not None and (len(x.strip()) == 0 or x.strip().lower() == 'nan')).sum())\n",
    "\n",
    "print(\"<br>TotalCharges is an object datatype, it has **11** 'nan' value\")"
   ]
  },
  {
   "cell_type": "markdown",
   "id": "81cea16f",
   "metadata": {},
   "source": [
    "# Missing Value code ends"
   ]
  },
  {
   "cell_type": "code",
   "execution_count": 39,
   "id": "b8c2fe6d",
   "metadata": {},
   "outputs": [],
   "source": [
    "employee_df['Employee Status Ind'] = employee_df['Employee Status'].apply(lambda x:1 if x == 'Terminated' else 0)"
   ]
  },
  {
   "cell_type": "code",
   "execution_count": 40,
   "id": "49434e8c",
   "metadata": {},
   "outputs": [
    {
     "data": {
      "text/plain": [
       "array([[<AxesSubplot:title={'center':'Current Hire Date'}>,\n",
       "        <AxesSubplot:title={'center':'Continuous Service Date'}>,\n",
       "        <AxesSubplot:title={'center':'Termination Date'}>],\n",
       "       [<AxesSubplot:title={'center':'Years of Service'}>,\n",
       "        <AxesSubplot:title={'center':'Compa Ratio'}>,\n",
       "        <AxesSubplot:title={'center':'Age (Term by Term Date, Active by Today)'}>],\n",
       "       [<AxesSubplot:title={'center':'Base Pay Mid Point Annualized USD'}>,\n",
       "        <AxesSubplot:title={'center':'Last Promotion Date'}>,\n",
       "        <AxesSubplot:title={'center':'Cost to Replace Employee Multiplier'}>],\n",
       "       [<AxesSubplot:title={'center':'Employee Status Ind'}>,\n",
       "        <AxesSubplot:>, <AxesSubplot:>]], dtype=object)"
      ]
     },
     "execution_count": 40,
     "metadata": {},
     "output_type": "execute_result"
    },
    {
     "data": {
      "image/png": "[encoded data removed]",
      "text/plain": [
       "<Figure size 2000x2000 with 12 Axes>"
      ]
     },
     "metadata": {},
     "output_type": "display_data"
    }
   ],
   "source": [
    "employee_df.hist(bins=30, figsize=(20,20), color='b', alpha=0.6 )"
   ]
  },
  {
   "cell_type": "markdown",
   "id": "dec5ac53",
   "metadata": {},
   "source": [
    "# seaborn to plot Churn percentage"
   ]
  },
  {
   "cell_type": "code",
   "execution_count": 44,
   "id": "efb4e097",
   "metadata": {},
   "outputs": [
    {
     "data": {
      "text/plain": [
       "Active          0.581184\n",
       "Terminated      0.417420\n",
       "Unpaid Leave    0.001396\n",
       "Name: Employee Status, dtype: float64"
      ]
     },
     "execution_count": 44,
     "metadata": {},
     "output_type": "execute_result"
    }
   ],
   "source": [
    "employee_df[\"Employee Status\"].value_counts([\"Terminated\"])"
   ]
  },
  {
   "cell_type": "markdown",
   "id": "e8ea34b9",
   "metadata": {},
   "source": [
    "# Percentage of termination is very high at 41%"
   ]
  },
  {
   "cell_type": "code",
   "execution_count": 45,
   "id": "9ceeb4cf",
   "metadata": {},
   "outputs": [],
   "source": [
    "%matplotlib inline\n",
    "from matplotlib import pyplot as plt\n",
    "import seaborn as sns\n",
    "import pandas as pd"
   ]
  },
  {
   "cell_type": "code",
   "execution_count": 47,
   "id": "e65c4d20",
   "metadata": {},
   "outputs": [
    {
     "data": {
      "text/plain": [
       "<seaborn.axisgrid.FacetGrid at 0x246790e6100>"
      ]
     },
     "execution_count": 47,
     "metadata": {},
     "output_type": "execute_result"
    },
    {
     "data": {
      "image/png": "[encoded data removed]",
      "text/plain": [
       "<Figure size 500x500 with 1 Axes>"
      ]
     },
     "metadata": {},
     "output_type": "display_data"
    }
   ],
   "source": [
    "sns.displot(data = employee_df, x = \"Employee Status\")"
   ]
  },
  {
   "cell_type": "markdown",
   "id": "9f2d219b",
   "metadata": {},
   "source": [
    "# EDA analysis on target variables"
   ]
  },
  {
   "cell_type": "code",
   "execution_count": 52,
   "id": "705a2695",
   "metadata": {},
   "outputs": [],
   "source": [
    "#Age \n",
    "\n",
    "employee_df.rename(columns={'Age (Term by Term Date, Active by Today)': 'Age'}, inplace=True)\n"
   ]
  },
  {
   "cell_type": "code",
   "execution_count": 53,
   "id": "4ce8a96c",
   "metadata": {},
   "outputs": [
    {
     "data": {
      "text/plain": [
       "<AxesSubplot:xlabel='Age', ylabel='Count'>"
      ]
     },
     "execution_count": 53,
     "metadata": {},
     "output_type": "execute_result"
    },
    {
     "data": {
      "image/png": "[encoded data removed]",
      "text/plain": [
       "<Figure size 640x480 with 1 Axes>"
      ]
     },
     "metadata": {},
     "output_type": "display_data"
    }
   ],
   "source": [
    "plt.figure()\n",
    "sns.histplot(data = employee_df, x = \"Age\", bins = 7)"
   ]
  },
  {
   "cell_type": "markdown",
   "id": "ec389f2b",
   "metadata": {},
   "source": [
    "# Minimum and Maximum age of the workforce is 18 and 70 years respectively."
   ]
  },
  {
   "cell_type": "code",
   "execution_count": 54,
   "id": "78a9d3ed",
   "metadata": {},
   "outputs": [
    {
     "data": {
      "text/plain": [
       "<AxesSubplot:xlabel='Age', ylabel='Count'>"
      ]
     },
     "execution_count": 54,
     "metadata": {},
     "output_type": "execute_result"
    },
    {
     "data": {
      "image/png": "[encoded data removed]",
      "text/plain": [
       "<Figure size 640x480 with 1 Axes>"
      ]
     },
     "metadata": {},
     "output_type": "display_data"
    },
    {
     "data": {
      "image/png": "[encoded data removed]",
      "text/plain": [
       "<Figure size 640x480 with 1 Axes>"
      ]
     },
     "metadata": {},
     "output_type": "display_data"
    }
   ],
   "source": [
    "plt.figure()\n",
    "sns.histplot(data = employee_df, x = \"Age\", bins = 3, hue = \"Employee Status\")\n",
    "plt.figure()\n",
    "sns.histplot(data = employee_df, x = \"Age\", bins = 7, hue = \"Employee Status\")"
   ]
  },
  {
   "cell_type": "markdown",
   "id": "3c541f74",
   "metadata": {},
   "source": [
    "# Observation: From the histplot (where bins = 3), we can infer that absolute (more than 100 employees) and percentage values (around 33%) of employees are resigning whose age is less than 32. If this percentage value (around 33%) is greater than the industry average then this should be a cause of worry and the top-level management should try to bring this down by retaining the workforce."
   ]
  },
  {
   "cell_type": "code",
   "execution_count": 55,
   "id": "6f7cadba",
   "metadata": {},
   "outputs": [
    {
     "name": "stdout",
     "output_type": "stream",
     "text": [
      "Ex-exmployees: average age = 45.1 years old and standard deviation = 12.0\n"
     ]
    }
   ],
   "source": [
    "(mu, sigma) = norm.fit(employee_df.loc[employee_df[\"Employee Status\"] == 'Terminated', 'Age'])\n",
    "\n",
    "print(\n",
    "    'Ex-exmployees: average age = {:.1f} years old and standard deviation = {:.1f}'.format(mu, sigma))"
   ]
  },
  {
   "cell_type": "code",
   "execution_count": 56,
   "id": "48b6f652",
   "metadata": {},
   "outputs": [
    {
     "name": "stdout",
     "output_type": "stream",
     "text": [
      "Current exmployees: average age = 43.3 years old and standard deviation = 10.5\n"
     ]
    }
   ],
   "source": [
    "(mu, sigma) = norm.fit(employee_df.loc[employee_df['Employee Status'] == 'Active', 'Age'])\n",
    "\n",
    "print('Current exmployees: average age = {:.1f} years old and standard deviation = {:.1f}'.format(\n",
    "    mu, sigma))"
   ]
  },
  {
   "cell_type": "markdown",
   "id": "4e12d88d",
   "metadata": {},
   "source": [
    "# Let's create a kernel density estimation (KDE) plot colored by the value of the target. A kernel density estimation (KDE) is a non-parametric way to estimate the probability density function of a random variable. It will allow us to identify if there is a correlation between the Age of the Client and their ability to pay it back."
   ]
  },
  {
   "cell_type": "code",
   "execution_count": 57,
   "id": "b349928b",
   "metadata": {},
   "outputs": [
    {
     "data": {
      "image/png": "[encoded data removed]",
      "text/plain": [
       "<Figure size 1500x600 with 1 Axes>"
      ]
     },
     "metadata": {},
     "output_type": "display_data"
    }
   ],
   "source": [
    "plt.figure(figsize=(15,6))\n",
    "plt.style.use('seaborn-colorblind')\n",
    "plt.grid(True, alpha=0.5)\n",
    "sns.kdeplot(employee_df.loc[employee_df['Employee Status'] == 'Terminated', 'Age'], label = 'Active Employee')\n",
    "sns.kdeplot(employee_df.loc[employee_df['Employee Status'] == 'Active', 'Age'], label = 'Ex-Employees')\n",
    "plt.xlim(left=18, right=60)\n",
    "plt.xlabel('Age (years)')\n",
    "plt.ylabel('Density')\n",
    "plt.legend()\n",
    "plt.title('Age Distribution in Percent by Employee Status');"
   ]
  },
  {
   "cell_type": "markdown",
   "id": "7b3789d3",
   "metadata": {},
   "source": [
    "#Ex-Employees has average of around 40 years, Active Employee has an average of around 33. Older employees is more likely to leave the company, years of experience, job function, education, martial status are potential support."
   ]
  },
  {
   "cell_type": "markdown",
   "id": "fc029dd2",
   "metadata": {},
   "source": [
    "# Analyze which department has more Churn. "
   ]
  },
  {
   "cell_type": "code",
   "execution_count": 58,
   "id": "090f3a88",
   "metadata": {},
   "outputs": [
    {
     "data": {
      "text/plain": [
       "Engineering                         10481\n",
       "Manufacturing                        6097\n",
       "Engineering Services                 1886\n",
       "Information Technology               1728\n",
       "Materials                            1115\n",
       "Finance/Accounting                    872\n",
       "Operations Support                    688\n",
       "Sales                                 518\n",
       "Human Resources                       475\n",
       "Marketing                             437\n",
       "Sales Operations                      404\n",
       "Administrative                        337\n",
       "Quality                               272\n",
       "Customer Service                      246\n",
       "Legal                                 125\n",
       "PR/Communications                      49\n",
       "Business Excellence                    17\n",
       "Section 16 Officer                     10\n",
       "Professional Services                   8\n",
       "Business Operations                     6\n",
       "Product Line Management                 3\n",
       "General Management                      3\n",
       "Corp Dev                                2\n",
       "Customer Support                        2\n",
       "Operations Strategy                     2\n",
       "Strategic Planning & Development        1\n",
       "Sales/Marketing                         1\n",
       "Government                              1\n",
       "Operations                              1\n",
       "Name: Job Function, dtype: int64"
      ]
     },
     "execution_count": 58,
     "metadata": {},
     "output_type": "execute_result"
    }
   ],
   "source": [
    "employee_df['Job Function'].value_counts()"
   ]
  },
  {
   "cell_type": "code",
   "execution_count": 118,
   "id": "d6e149d7",
   "metadata": {},
   "outputs": [],
   "source": [
    "#conda install -c conda-forge cufflinks-py \n"
   ]
  },
  {
   "cell_type": "code",
   "execution_count": 59,
   "id": "4dd498f0",
   "metadata": {},
   "outputs": [
    {
     "data": {
      "text/plain": [
       "25787"
      ]
     },
     "execution_count": 59,
     "metadata": {},
     "output_type": "execute_result"
    }
   ],
   "source": [
    "employee_df['Job Function'].shape[0]"
   ]
  },
  {
   "cell_type": "code",
   "execution_count": 60,
   "id": "9eb6968b",
   "metadata": {},
   "outputs": [
    {
     "data": {
      "text/html": [
       "        <script type=\"text/javascript\">\n",
       "        window.PlotlyConfig = {MathJaxConfig: 'local'};\n",
       "        if (window.MathJax && window.MathJax.Hub && window.MathJax.Hub.Config) {window.MathJax.Hub.Config({SVG: {font: \"STIX-Web\"}});}\n",
       "        if (typeof require !== 'undefined') {\n",
       "        require.undef(\"plotly\");\n",
       "        requirejs.config({\n",
       "            paths: {\n",
       "                'plotly': ['https://cdn.plot.ly/plotly-2.12.1.min']\n",
       "            }\n",
       "        });\n",
       "        require(['plotly'], function(Plotly) {\n",
       "            window._Plotly = Plotly;\n",
       "        });\n",
       "        }\n",
       "        </script>\n",
       "        "
      ]
     },
     "metadata": {},
     "output_type": "display_data"
    },
    {
     "data": {
      "text/html": [
       "        <script type=\"text/javascript\">\n",
       "        window.PlotlyConfig = {MathJaxConfig: 'local'};\n",
       "        if (window.MathJax && window.MathJax.Hub && window.MathJax.Hub.Config) {window.MathJax.Hub.Config({SVG: {font: \"STIX-Web\"}});}\n",
       "        if (typeof require !== 'undefined') {\n",
       "        require.undef(\"plotly\");\n",
       "        requirejs.config({\n",
       "            paths: {\n",
       "                'plotly': ['https://cdn.plot.ly/plotly-2.12.1.min']\n",
       "            }\n",
       "        });\n",
       "        require(['plotly'], function(Plotly) {\n",
       "            window._Plotly = Plotly;\n",
       "        });\n",
       "        }\n",
       "        </script>\n",
       "        "
      ]
     },
     "metadata": {},
     "output_type": "display_data"
    },
    {
     "data": {
      "text/html": [
       "        <script type=\"text/javascript\">\n",
       "        window.PlotlyConfig = {MathJaxConfig: 'local'};\n",
       "        if (window.MathJax && window.MathJax.Hub && window.MathJax.Hub.Config) {window.MathJax.Hub.Config({SVG: {font: \"STIX-Web\"}});}\n",
       "        if (typeof require !== 'undefined') {\n",
       "        require.undef(\"plotly\");\n",
       "        requirejs.config({\n",
       "            paths: {\n",
       "                'plotly': ['https://cdn.plot.ly/plotly-2.12.1.min']\n",
       "            }\n",
       "        });\n",
       "        require(['plotly'], function(Plotly) {\n",
       "            window._Plotly = Plotly;\n",
       "        });\n",
       "        }\n",
       "        </script>\n",
       "        "
      ]
     },
     "metadata": {},
     "output_type": "display_data"
    },
    {
     "data": {
      "text/html": [
       "        <script type=\"text/javascript\">\n",
       "        window.PlotlyConfig = {MathJaxConfig: 'local'};\n",
       "        if (window.MathJax && window.MathJax.Hub && window.MathJax.Hub.Config) {window.MathJax.Hub.Config({SVG: {font: \"STIX-Web\"}});}\n",
       "        if (typeof require !== 'undefined') {\n",
       "        require.undef(\"plotly\");\n",
       "        requirejs.config({\n",
       "            paths: {\n",
       "                'plotly': ['https://cdn.plot.ly/plotly-2.12.1.min']\n",
       "            }\n",
       "        });\n",
       "        require(['plotly'], function(Plotly) {\n",
       "            window._Plotly = Plotly;\n",
       "        });\n",
       "        }\n",
       "        </script>\n",
       "        "
      ]
     },
     "metadata": {},
     "output_type": "display_data"
    },
    {
     "data": {
      "application/vnd.plotly.v1+json": {
       "config": {
        "linkText": "Export to plot.ly",
        "plotlyServerURL": "https://plot.ly",
        "showLink": true
       },
       "data": [
        {
         "marker": {
          "color": "rgba(255, 153, 51, 0.6)",
          "line": {
           "color": "rgba(255, 153, 51, 1.0)",
           "width": 1
          }
         },
         "name": "% of Leavers",
         "orientation": "v",
         "text": "",
         "type": "bar",
         "x": [
          "Administrative",
          "Business Excellence",
          "Business Operations",
          "Corp Dev",
          "Customer Service",
          "Customer Support",
          "Engineering",
          "Engineering Services",
          "Finance/Accounting",
          "General Management",
          "Government",
          "Human Resources",
          "Information Technology",
          "Legal",
          "Manufacturing",
          "Marketing",
          "Materials",
          "Operations",
          "Operations Strategy",
          "Operations Support",
          "PR/Communications",
          "Product Line Management",
          "Professional Services",
          "Quality",
          "Sales",
          "Sales Operations",
          "Sales/Marketing",
          "Section 16 Officer",
          "Strategic Planning & Development"
         ],
         "y": [
          0.6243456004963742,
          0.04265715282894481,
          0.0038779229844495286,
          0.0038779229844495286,
          0.7755845968899058,
          0,
          18.268895179741733,
          3.2380656920153563,
          1.5860705006398572,
          0.011633768953348587,
          0.0038779229844495286,
          0.8647768255322449,
          3.3350137666265947,
          0.19001822623802692,
          6.956993834102455,
          0.8686547485166944,
          1.8614030325357738,
          0.0038779229844495286,
          0,
          1.027649590879125,
          0.07368053670454104,
          0.007755845968899057,
          0.0038779229844495286,
          0.3761585294916043,
          0.9268235932834373,
          0.6670027533253189,
          0.0038779229844495286,
          0.015511691937798115,
          0
         ]
        }
       ],
       "layout": {
        "legend": {
         "bgcolor": "#F5F6F9",
         "font": {
          "color": "#4D5663"
         }
        },
        "paper_bgcolor": "#F5F6F9",
        "plot_bgcolor": "#F5F6F9",
        "template": {
         "data": {
          "bar": [
           {
            "error_x": {
             "color": "#2a3f5f"
            },
            "error_y": {
             "color": "#2a3f5f"
            },
            "marker": {
             "line": {
              "color": "#E5ECF6",
              "width": 0.5
             },
             "pattern": {
              "fillmode": "overlay",
              "size": 10,
              "solidity": 0.2
             }
            },
            "type": "bar"
           }
          ],
          "barpolar": [
           {
            "marker": {
             "line": {
              "color": "#E5ECF6",
              "width": 0.5
             },
             "pattern": {
              "fillmode": "overlay",
              "size": 10,
              "solidity": 0.2
             }
            },
            "type": "barpolar"
           }
          ],
          "carpet": [
           {
            "aaxis": {
             "endlinecolor": "#2a3f5f",
             "gridcolor": "white",
             "linecolor": "white",
             "minorgridcolor": "white",
             "startlinecolor": "#2a3f5f"
            },
            "baxis": {
             "endlinecolor": "#2a3f5f",
             "gridcolor": "white",
             "linecolor": "white",
             "minorgridcolor": "white",
             "startlinecolor": "#2a3f5f"
            },
            "type": "carpet"
           }
          ],
          "choropleth": [
           {
            "colorbar": {
             "outlinewidth": 0,
             "ticks": ""
            },
            "type": "choropleth"
           }
          ],
          "contour": [
           {
            "colorbar": {
             "outlinewidth": 0,
             "ticks": ""
            },
            "colorscale": [
             [
              0,
              "#0d0887"
             ],
             [
              0.1111111111111111,
              "#46039f"
             ],
             [
              0.2222222222222222,
              "#7201a8"
             ],
             [
              0.3333333333333333,
              "#9c179e"
             ],
             [
              0.4444444444444444,
              "#bd3786"
             ],
             [
              0.5555555555555556,
              "#d8576b"
             ],
             [
              0.6666666666666666,
              "#ed7953"
             ],
             [
              0.7777777777777778,
              "#fb9f3a"
             ],
             [
              0.8888888888888888,
              "#fdca26"
             ],
             [
              1,
              "#f0f921"
             ]
            ],
            "type": "contour"
           }
          ],
          "contourcarpet": [
           {
            "colorbar": {
             "outlinewidth": 0,
             "ticks": ""
            },
            "type": "contourcarpet"
           }
          ],
          "heatmap": [
           {
            "colorbar": {
             "outlinewidth": 0,
             "ticks": ""
            },
            "colorscale": [
             [
              0,
              "#0d0887"
             ],
             [
              0.1111111111111111,
              "#46039f"
             ],
             [
              0.2222222222222222,
              "#7201a8"
             ],
             [
              0.3333333333333333,
              "#9c179e"
             ],
             [
              0.4444444444444444,
              "#bd3786"
             ],
             [
              0.5555555555555556,
              "#d8576b"
             ],
             [
              0.6666666666666666,
              "#ed7953"
             ],
             [
              0.7777777777777778,
              "#fb9f3a"
             ],
             [
              0.8888888888888888,
              "#fdca26"
             ],
             [
              1,
              "#f0f921"
             ]
            ],
            "type": "heatmap"
           }
          ],
          "heatmapgl": [
           {
            "colorbar": {
             "outlinewidth": 0,
             "ticks": ""
            },
            "colorscale": [
             [
              0,
              "#0d0887"
             ],
             [
              0.1111111111111111,
              "#46039f"
             ],
             [
              0.2222222222222222,
              "#7201a8"
             ],
             [
              0.3333333333333333,
              "#9c179e"
             ],
             [
              0.4444444444444444,
              "#bd3786"
             ],
             [
              0.5555555555555556,
              "#d8576b"
             ],
             [
              0.6666666666666666,
              "#ed7953"
             ],
             [
              0.7777777777777778,
              "#fb9f3a"
             ],
             [
              0.8888888888888888,
              "#fdca26"
             ],
             [
              1,
              "#f0f921"
             ]
            ],
            "type": "heatmapgl"
           }
          ],
          "histogram": [
           {
            "marker": {
             "pattern": {
              "fillmode": "overlay",
              "size": 10,
              "solidity": 0.2
             }
            },
            "type": "histogram"
           }
          ],
          "histogram2d": [
           {
            "colorbar": {
             "outlinewidth": 0,
             "ticks": ""
            },
            "colorscale": [
             [
              0,
              "#0d0887"
             ],
             [
              0.1111111111111111,
              "#46039f"
             ],
             [
              0.2222222222222222,
              "#7201a8"
             ],
             [
              0.3333333333333333,
              "#9c179e"
             ],
             [
              0.4444444444444444,
              "#bd3786"
             ],
             [
              0.5555555555555556,
              "#d8576b"
             ],
             [
              0.6666666666666666,
              "#ed7953"
             ],
             [
              0.7777777777777778,
              "#fb9f3a"
             ],
             [
              0.8888888888888888,
              "#fdca26"
             ],
             [
              1,
              "#f0f921"
             ]
            ],
            "type": "histogram2d"
           }
          ],
          "histogram2dcontour": [
           {
            "colorbar": {
             "outlinewidth": 0,
             "ticks": ""
            },
            "colorscale": [
             [
              0,
              "#0d0887"
             ],
             [
              0.1111111111111111,
              "#46039f"
             ],
             [
              0.2222222222222222,
              "#7201a8"
             ],
             [
              0.3333333333333333,
              "#9c179e"
             ],
             [
              0.4444444444444444,
              "#bd3786"
             ],
             [
              0.5555555555555556,
              "#d8576b"
             ],
             [
              0.6666666666666666,
              "#ed7953"
             ],
             [
              0.7777777777777778,
              "#fb9f3a"
             ],
             [
              0.8888888888888888,
              "#fdca26"
             ],
             [
              1,
              "#f0f921"
             ]
            ],
            "type": "histogram2dcontour"
           }
          ],
          "mesh3d": [
           {
            "colorbar": {
             "outlinewidth": 0,
             "ticks": ""
            },
            "type": "mesh3d"
           }
          ],
          "parcoords": [
           {
            "line": {
             "colorbar": {
              "outlinewidth": 0,
              "ticks": ""
             }
            },
            "type": "parcoords"
           }
          ],
          "pie": [
           {
            "automargin": true,
            "type": "pie"
           }
          ],
          "scatter": [
           {
            "fillpattern": {
             "fillmode": "overlay",
             "size": 10,
             "solidity": 0.2
            },
            "type": "scatter"
           }
          ],
          "scatter3d": [
           {
            "line": {
             "colorbar": {
              "outlinewidth": 0,
              "ticks": ""
             }
            },
            "marker": {
             "colorbar": {
              "outlinewidth": 0,
              "ticks": ""
             }
            },
            "type": "scatter3d"
           }
          ],
          "scattercarpet": [
           {
            "marker": {
             "colorbar": {
              "outlinewidth": 0,
              "ticks": ""
             }
            },
            "type": "scattercarpet"
           }
          ],
          "scattergeo": [
           {
            "marker": {
             "colorbar": {
              "outlinewidth": 0,
              "ticks": ""
             }
            },
            "type": "scattergeo"
           }
          ],
          "scattergl": [
           {
            "marker": {
             "colorbar": {
              "outlinewidth": 0,
              "ticks": ""
             }
            },
            "type": "scattergl"
           }
          ],
          "scattermapbox": [
           {
            "marker": {
             "colorbar": {
              "outlinewidth": 0,
              "ticks": ""
             }
            },
            "type": "scattermapbox"
           }
          ],
          "scatterpolar": [
           {
            "marker": {
             "colorbar": {
              "outlinewidth": 0,
              "ticks": ""
             }
            },
            "type": "scatterpolar"
           }
          ],
          "scatterpolargl": [
           {
            "marker": {
             "colorbar": {
              "outlinewidth": 0,
              "ticks": ""
             }
            },
            "type": "scatterpolargl"
           }
          ],
          "scatterternary": [
           {
            "marker": {
             "colorbar": {
              "outlinewidth": 0,
              "ticks": ""
             }
            },
            "type": "scatterternary"
           }
          ],
          "surface": [
           {
            "colorbar": {
             "outlinewidth": 0,
             "ticks": ""
            },
            "colorscale": [
             [
              0,
              "#0d0887"
             ],
             [
              0.1111111111111111,
              "#46039f"
             ],
             [
              0.2222222222222222,
              "#7201a8"
             ],
             [
              0.3333333333333333,
              "#9c179e"
             ],
             [
              0.4444444444444444,
              "#bd3786"
             ],
             [
              0.5555555555555556,
              "#d8576b"
             ],
             [
              0.6666666666666666,
              "#ed7953"
             ],
             [
              0.7777777777777778,
              "#fb9f3a"
             ],
             [
              0.8888888888888888,
              "#fdca26"
             ],
             [
              1,
              "#f0f921"
             ]
            ],
            "type": "surface"
           }
          ],
          "table": [
           {
            "cells": {
             "fill": {
              "color": "#EBF0F8"
             },
             "line": {
              "color": "white"
             }
            },
            "header": {
             "fill": {
              "color": "#C8D4E3"
             },
             "line": {
              "color": "white"
             }
            },
            "type": "table"
           }
          ]
         },
         "layout": {
          "annotationdefaults": {
           "arrowcolor": "#2a3f5f",
           "arrowhead": 0,
           "arrowwidth": 1
          },
          "autotypenumbers": "strict",
          "coloraxis": {
           "colorbar": {
            "outlinewidth": 0,
            "ticks": ""
           }
          },
          "colorscale": {
           "diverging": [
            [
             0,
             "#8e0152"
            ],
            [
             0.1,
             "#c51b7d"
            ],
            [
             0.2,
             "#de77ae"
            ],
            [
             0.3,
             "#f1b6da"
            ],
            [
             0.4,
             "#fde0ef"
            ],
            [
             0.5,
             "#f7f7f7"
            ],
            [
             0.6,
             "#e6f5d0"
            ],
            [
             0.7,
             "#b8e186"
            ],
            [
             0.8,
             "#7fbc41"
            ],
            [
             0.9,
             "#4d9221"
            ],
            [
             1,
             "#276419"
            ]
           ],
           "sequential": [
            [
             0,
             "#0d0887"
            ],
            [
             0.1111111111111111,
             "#46039f"
            ],
            [
             0.2222222222222222,
             "#7201a8"
            ],
            [
             0.3333333333333333,
             "#9c179e"
            ],
            [
             0.4444444444444444,
             "#bd3786"
            ],
            [
             0.5555555555555556,
             "#d8576b"
            ],
            [
             0.6666666666666666,
             "#ed7953"
            ],
            [
             0.7777777777777778,
             "#fb9f3a"
            ],
            [
             0.8888888888888888,
             "#fdca26"
            ],
            [
             1,
             "#f0f921"
            ]
           ],
           "sequentialminus": [
            [
             0,
             "#0d0887"
            ],
            [
             0.1111111111111111,
             "#46039f"
            ],
            [
             0.2222222222222222,
             "#7201a8"
            ],
            [
             0.3333333333333333,
             "#9c179e"
            ],
            [
             0.4444444444444444,
             "#bd3786"
            ],
            [
             0.5555555555555556,
             "#d8576b"
            ],
            [
             0.6666666666666666,
             "#ed7953"
            ],
            [
             0.7777777777777778,
             "#fb9f3a"
            ],
            [
             0.8888888888888888,
             "#fdca26"
            ],
            [
             1,
             "#f0f921"
            ]
           ]
          },
          "colorway": [
           "#636efa",
           "#EF553B",
           "#00cc96",
           "#ab63fa",
           "#FFA15A",
           "#19d3f3",
           "#FF6692",
           "#B6E880",
           "#FF97FF",
           "#FECB52"
          ],
          "font": {
           "color": "#2a3f5f"
          },
          "geo": {
           "bgcolor": "white",
           "lakecolor": "white",
           "landcolor": "#E5ECF6",
           "showlakes": true,
           "showland": true,
           "subunitcolor": "white"
          },
          "hoverlabel": {
           "align": "left"
          },
          "hovermode": "closest",
          "mapbox": {
           "style": "light"
          },
          "paper_bgcolor": "white",
          "plot_bgcolor": "#E5ECF6",
          "polar": {
           "angularaxis": {
            "gridcolor": "white",
            "linecolor": "white",
            "ticks": ""
           },
           "bgcolor": "#E5ECF6",
           "radialaxis": {
            "gridcolor": "white",
            "linecolor": "white",
            "ticks": ""
           }
          },
          "scene": {
           "xaxis": {
            "backgroundcolor": "#E5ECF6",
            "gridcolor": "white",
            "gridwidth": 2,
            "linecolor": "white",
            "showbackground": true,
            "ticks": "",
            "zerolinecolor": "white"
           },
           "yaxis": {
            "backgroundcolor": "#E5ECF6",
            "gridcolor": "white",
            "gridwidth": 2,
            "linecolor": "white",
            "showbackground": true,
            "ticks": "",
            "zerolinecolor": "white"
           },
           "zaxis": {
            "backgroundcolor": "#E5ECF6",
            "gridcolor": "white",
            "gridwidth": 2,
            "linecolor": "white",
            "showbackground": true,
            "ticks": "",
            "zerolinecolor": "white"
           }
          },
          "shapedefaults": {
           "line": {
            "color": "#2a3f5f"
           }
          },
          "ternary": {
           "aaxis": {
            "gridcolor": "white",
            "linecolor": "white",
            "ticks": ""
           },
           "baxis": {
            "gridcolor": "white",
            "linecolor": "white",
            "ticks": ""
           },
           "bgcolor": "#E5ECF6",
           "caxis": {
            "gridcolor": "white",
            "linecolor": "white",
            "ticks": ""
           }
          },
          "title": {
           "x": 0.05
          },
          "xaxis": {
           "automargin": true,
           "gridcolor": "white",
           "linecolor": "white",
           "ticks": "",
           "title": {
            "standoff": 15
           },
           "zerolinecolor": "white",
           "zerolinewidth": 2
          },
          "yaxis": {
           "automargin": true,
           "gridcolor": "white",
           "linecolor": "white",
           "ticks": "",
           "title": {
            "standoff": 15
           },
           "zerolinecolor": "white",
           "zerolinewidth": 2
          }
         }
        },
        "title": {
         "font": {
          "color": "#4D5663"
         },
         "text": "Churn by Job Function Field (%)"
        },
        "xaxis": {
         "gridcolor": "#E1E5ED",
         "showgrid": true,
         "tickfont": {
          "color": "#4D5663"
         },
         "title": {
          "font": {
           "color": "#4D5663"
          },
          "text": ""
         },
         "zerolinecolor": "#E1E5ED"
        },
        "yaxis": {
         "gridcolor": "#E1E5ED",
         "showgrid": true,
         "tickfont": {
          "color": "#4D5663"
         },
         "title": {
          "font": {
           "color": "#4D5663"
          },
          "text": ""
         },
         "zerolinecolor": "#E1E5ED"
        }
       }
      },
      "text/html": [
       "<div>                            <div id=\"e086eb21-cc2e-4cb5-9ca3-0253d1c667ba\" class=\"plotly-graph-div\" style=\"height:525px; width:100%;\"></div>            <script type=\"text/javascript\">                require([\"plotly\"], function(Plotly) {                    window.PLOTLYENV=window.PLOTLYENV || {};\n",
       "                    window.PLOTLYENV.BASE_URL='https://plot.ly';                                    if (document.getElementById(\"e086eb21-cc2e-4cb5-9ca3-0253d1c667ba\")) {                    Plotly.newPlot(                        \"e086eb21-cc2e-4cb5-9ca3-0253d1c667ba\",                        [{\"marker\":{\"color\":\"rgba(255, 153, 51, 0.6)\",\"line\":{\"color\":\"rgba(255, 153, 51, 1.0)\",\"width\":1}},\"name\":\"% of Leavers\",\"orientation\":\"v\",\"text\":\"\",\"x\":[\"Administrative\",\"Business Excellence\",\"Business Operations\",\"Corp Dev\",\"Customer Service\",\"Customer Support\",\"Engineering\",\"Engineering Services\",\"Finance/Accounting\",\"General Management\",\"Government\",\"Human Resources\",\"Information Technology\",\"Legal\",\"Manufacturing\",\"Marketing\",\"Materials\",\"Operations\",\"Operations Strategy\",\"Operations Support\",\"PR/Communications\",\"Product Line Management\",\"Professional Services\",\"Quality\",\"Sales\",\"Sales Operations\",\"Sales/Marketing\",\"Section 16 Officer\",\"Strategic Planning & Development\"],\"y\":[0.6243456004963742,0.04265715282894481,0.0038779229844495286,0.0038779229844495286,0.7755845968899058,0.0,18.268895179741733,3.2380656920153563,1.5860705006398572,0.011633768953348587,0.0038779229844495286,0.8647768255322449,3.3350137666265947,0.19001822623802692,6.956993834102455,0.8686547485166944,1.8614030325357738,0.0038779229844495286,0.0,1.027649590879125,0.07368053670454104,0.007755845968899057,0.0038779229844495286,0.3761585294916043,0.9268235932834373,0.6670027533253189,0.0038779229844495286,0.015511691937798115,0.0],\"type\":\"bar\"}],                        {\"legend\":{\"bgcolor\":\"#F5F6F9\",\"font\":{\"color\":\"#4D5663\"}},\"paper_bgcolor\":\"#F5F6F9\",\"plot_bgcolor\":\"#F5F6F9\",\"template\":{\"data\":{\"barpolar\":[{\"marker\":{\"line\":{\"color\":\"#E5ECF6\",\"width\":0.5},\"pattern\":{\"fillmode\":\"overlay\",\"size\":10,\"solidity\":0.2}},\"type\":\"barpolar\"}],\"bar\":[{\"error_x\":{\"color\":\"#2a3f5f\"},\"error_y\":{\"color\":\"#2a3f5f\"},\"marker\":{\"line\":{\"color\":\"#E5ECF6\",\"width\":0.5},\"pattern\":{\"fillmode\":\"overlay\",\"size\":10,\"solidity\":0.2}},\"type\":\"bar\"}],\"carpet\":[{\"aaxis\":{\"endlinecolor\":\"#2a3f5f\",\"gridcolor\":\"white\",\"linecolor\":\"white\",\"minorgridcolor\":\"white\",\"startlinecolor\":\"#2a3f5f\"},\"baxis\":{\"endlinecolor\":\"#2a3f5f\",\"gridcolor\":\"white\",\"linecolor\":\"white\",\"minorgridcolor\":\"white\",\"startlinecolor\":\"#2a3f5f\"},\"type\":\"carpet\"}],\"choropleth\":[{\"colorbar\":{\"outlinewidth\":0,\"ticks\":\"\"},\"type\":\"choropleth\"}],\"contourcarpet\":[{\"colorbar\":{\"outlinewidth\":0,\"ticks\":\"\"},\"type\":\"contourcarpet\"}],\"contour\":[{\"colorbar\":{\"outlinewidth\":0,\"ticks\":\"\"},\"colorscale\":[[0.0,\"#0d0887\"],[0.1111111111111111,\"#46039f\"],[0.2222222222222222,\"#7201a8\"],[0.3333333333333333,\"#9c179e\"],[0.4444444444444444,\"#bd3786\"],[0.5555555555555556,\"#d8576b\"],[0.6666666666666666,\"#ed7953\"],[0.7777777777777778,\"#fb9f3a\"],[0.8888888888888888,\"#fdca26\"],[1.0,\"#f0f921\"]],\"type\":\"contour\"}],\"heatmapgl\":[{\"colorbar\":{\"outlinewidth\":0,\"ticks\":\"\"},\"colorscale\":[[0.0,\"#0d0887\"],[0.1111111111111111,\"#46039f\"],[0.2222222222222222,\"#7201a8\"],[0.3333333333333333,\"#9c179e\"],[0.4444444444444444,\"#bd3786\"],[0.5555555555555556,\"#d8576b\"],[0.6666666666666666,\"#ed7953\"],[0.7777777777777778,\"#fb9f3a\"],[0.8888888888888888,\"#fdca26\"],[1.0,\"#f0f921\"]],\"type\":\"heatmapgl\"}],\"heatmap\":[{\"colorbar\":{\"outlinewidth\":0,\"ticks\":\"\"},\"colorscale\":[[0.0,\"#0d0887\"],[0.1111111111111111,\"#46039f\"],[0.2222222222222222,\"#7201a8\"],[0.3333333333333333,\"#9c179e\"],[0.4444444444444444,\"#bd3786\"],[0.5555555555555556,\"#d8576b\"],[0.6666666666666666,\"#ed7953\"],[0.7777777777777778,\"#fb9f3a\"],[0.8888888888888888,\"#fdca26\"],[1.0,\"#f0f921\"]],\"type\":\"heatmap\"}],\"histogram2dcontour\":[{\"colorbar\":{\"outlinewidth\":0,\"ticks\":\"\"},\"colorscale\":[[0.0,\"#0d0887\"],[0.1111111111111111,\"#46039f\"],[0.2222222222222222,\"#7201a8\"],[0.3333333333333333,\"#9c179e\"],[0.4444444444444444,\"#bd3786\"],[0.5555555555555556,\"#d8576b\"],[0.6666666666666666,\"#ed7953\"],[0.7777777777777778,\"#fb9f3a\"],[0.8888888888888888,\"#fdca26\"],[1.0,\"#f0f921\"]],\"type\":\"histogram2dcontour\"}],\"histogram2d\":[{\"colorbar\":{\"outlinewidth\":0,\"ticks\":\"\"},\"colorscale\":[[0.0,\"#0d0887\"],[0.1111111111111111,\"#46039f\"],[0.2222222222222222,\"#7201a8\"],[0.3333333333333333,\"#9c179e\"],[0.4444444444444444,\"#bd3786\"],[0.5555555555555556,\"#d8576b\"],[0.6666666666666666,\"#ed7953\"],[0.7777777777777778,\"#fb9f3a\"],[0.8888888888888888,\"#fdca26\"],[1.0,\"#f0f921\"]],\"type\":\"histogram2d\"}],\"histogram\":[{\"marker\":{\"pattern\":{\"fillmode\":\"overlay\",\"size\":10,\"solidity\":0.2}},\"type\":\"histogram\"}],\"mesh3d\":[{\"colorbar\":{\"outlinewidth\":0,\"ticks\":\"\"},\"type\":\"mesh3d\"}],\"parcoords\":[{\"line\":{\"colorbar\":{\"outlinewidth\":0,\"ticks\":\"\"}},\"type\":\"parcoords\"}],\"pie\":[{\"automargin\":true,\"type\":\"pie\"}],\"scatter3d\":[{\"line\":{\"colorbar\":{\"outlinewidth\":0,\"ticks\":\"\"}},\"marker\":{\"colorbar\":{\"outlinewidth\":0,\"ticks\":\"\"}},\"type\":\"scatter3d\"}],\"scattercarpet\":[{\"marker\":{\"colorbar\":{\"outlinewidth\":0,\"ticks\":\"\"}},\"type\":\"scattercarpet\"}],\"scattergeo\":[{\"marker\":{\"colorbar\":{\"outlinewidth\":0,\"ticks\":\"\"}},\"type\":\"scattergeo\"}],\"scattergl\":[{\"marker\":{\"colorbar\":{\"outlinewidth\":0,\"ticks\":\"\"}},\"type\":\"scattergl\"}],\"scattermapbox\":[{\"marker\":{\"colorbar\":{\"outlinewidth\":0,\"ticks\":\"\"}},\"type\":\"scattermapbox\"}],\"scatterpolargl\":[{\"marker\":{\"colorbar\":{\"outlinewidth\":0,\"ticks\":\"\"}},\"type\":\"scatterpolargl\"}],\"scatterpolar\":[{\"marker\":{\"colorbar\":{\"outlinewidth\":0,\"ticks\":\"\"}},\"type\":\"scatterpolar\"}],\"scatter\":[{\"fillpattern\":{\"fillmode\":\"overlay\",\"size\":10,\"solidity\":0.2},\"type\":\"scatter\"}],\"scatterternary\":[{\"marker\":{\"colorbar\":{\"outlinewidth\":0,\"ticks\":\"\"}},\"type\":\"scatterternary\"}],\"surface\":[{\"colorbar\":{\"outlinewidth\":0,\"ticks\":\"\"},\"colorscale\":[[0.0,\"#0d0887\"],[0.1111111111111111,\"#46039f\"],[0.2222222222222222,\"#7201a8\"],[0.3333333333333333,\"#9c179e\"],[0.4444444444444444,\"#bd3786\"],[0.5555555555555556,\"#d8576b\"],[0.6666666666666666,\"#ed7953\"],[0.7777777777777778,\"#fb9f3a\"],[0.8888888888888888,\"#fdca26\"],[1.0,\"#f0f921\"]],\"type\":\"surface\"}],\"table\":[{\"cells\":{\"fill\":{\"color\":\"#EBF0F8\"},\"line\":{\"color\":\"white\"}},\"header\":{\"fill\":{\"color\":\"#C8D4E3\"},\"line\":{\"color\":\"white\"}},\"type\":\"table\"}]},\"layout\":{\"annotationdefaults\":{\"arrowcolor\":\"#2a3f5f\",\"arrowhead\":0,\"arrowwidth\":1},\"autotypenumbers\":\"strict\",\"coloraxis\":{\"colorbar\":{\"outlinewidth\":0,\"ticks\":\"\"}},\"colorscale\":{\"diverging\":[[0,\"#8e0152\"],[0.1,\"#c51b7d\"],[0.2,\"#de77ae\"],[0.3,\"#f1b6da\"],[0.4,\"#fde0ef\"],[0.5,\"#f7f7f7\"],[0.6,\"#e6f5d0\"],[0.7,\"#b8e186\"],[0.8,\"#7fbc41\"],[0.9,\"#4d9221\"],[1,\"#276419\"]],\"sequential\":[[0.0,\"#0d0887\"],[0.1111111111111111,\"#46039f\"],[0.2222222222222222,\"#7201a8\"],[0.3333333333333333,\"#9c179e\"],[0.4444444444444444,\"#bd3786\"],[0.5555555555555556,\"#d8576b\"],[0.6666666666666666,\"#ed7953\"],[0.7777777777777778,\"#fb9f3a\"],[0.8888888888888888,\"#fdca26\"],[1.0,\"#f0f921\"]],\"sequentialminus\":[[0.0,\"#0d0887\"],[0.1111111111111111,\"#46039f\"],[0.2222222222222222,\"#7201a8\"],[0.3333333333333333,\"#9c179e\"],[0.4444444444444444,\"#bd3786\"],[0.5555555555555556,\"#d8576b\"],[0.6666666666666666,\"#ed7953\"],[0.7777777777777778,\"#fb9f3a\"],[0.8888888888888888,\"#fdca26\"],[1.0,\"#f0f921\"]]},\"colorway\":[\"#636efa\",\"#EF553B\",\"#00cc96\",\"#ab63fa\",\"#FFA15A\",\"#19d3f3\",\"#FF6692\",\"#B6E880\",\"#FF97FF\",\"#FECB52\"],\"font\":{\"color\":\"#2a3f5f\"},\"geo\":{\"bgcolor\":\"white\",\"lakecolor\":\"white\",\"landcolor\":\"#E5ECF6\",\"showlakes\":true,\"showland\":true,\"subunitcolor\":\"white\"},\"hoverlabel\":{\"align\":\"left\"},\"hovermode\":\"closest\",\"mapbox\":{\"style\":\"light\"},\"paper_bgcolor\":\"white\",\"plot_bgcolor\":\"#E5ECF6\",\"polar\":{\"angularaxis\":{\"gridcolor\":\"white\",\"linecolor\":\"white\",\"ticks\":\"\"},\"bgcolor\":\"#E5ECF6\",\"radialaxis\":{\"gridcolor\":\"white\",\"linecolor\":\"white\",\"ticks\":\"\"}},\"scene\":{\"xaxis\":{\"backgroundcolor\":\"#E5ECF6\",\"gridcolor\":\"white\",\"gridwidth\":2,\"linecolor\":\"white\",\"showbackground\":true,\"ticks\":\"\",\"zerolinecolor\":\"white\"},\"yaxis\":{\"backgroundcolor\":\"#E5ECF6\",\"gridcolor\":\"white\",\"gridwidth\":2,\"linecolor\":\"white\",\"showbackground\":true,\"ticks\":\"\",\"zerolinecolor\":\"white\"},\"zaxis\":{\"backgroundcolor\":\"#E5ECF6\",\"gridcolor\":\"white\",\"gridwidth\":2,\"linecolor\":\"white\",\"showbackground\":true,\"ticks\":\"\",\"zerolinecolor\":\"white\"}},\"shapedefaults\":{\"line\":{\"color\":\"#2a3f5f\"}},\"ternary\":{\"aaxis\":{\"gridcolor\":\"white\",\"linecolor\":\"white\",\"ticks\":\"\"},\"baxis\":{\"gridcolor\":\"white\",\"linecolor\":\"white\",\"ticks\":\"\"},\"bgcolor\":\"#E5ECF6\",\"caxis\":{\"gridcolor\":\"white\",\"linecolor\":\"white\",\"ticks\":\"\"}},\"title\":{\"x\":0.05},\"xaxis\":{\"automargin\":true,\"gridcolor\":\"white\",\"linecolor\":\"white\",\"ticks\":\"\",\"title\":{\"standoff\":15},\"zerolinecolor\":\"white\",\"zerolinewidth\":2},\"yaxis\":{\"automargin\":true,\"gridcolor\":\"white\",\"linecolor\":\"white\",\"ticks\":\"\",\"title\":{\"standoff\":15},\"zerolinecolor\":\"white\",\"zerolinewidth\":2}}},\"title\":{\"font\":{\"color\":\"#4D5663\"},\"text\":\"Churn by Job Function Field (%)\"},\"xaxis\":{\"gridcolor\":\"#E1E5ED\",\"showgrid\":true,\"tickfont\":{\"color\":\"#4D5663\"},\"title\":{\"font\":{\"color\":\"#4D5663\"},\"text\":\"\"},\"zerolinecolor\":\"#E1E5ED\"},\"yaxis\":{\"gridcolor\":\"#E1E5ED\",\"showgrid\":true,\"tickfont\":{\"color\":\"#4D5663\"},\"title\":{\"font\":{\"color\":\"#4D5663\"},\"text\":\"\"},\"zerolinecolor\":\"#E1E5ED\"}},                        {\"showLink\": true, \"linkText\": \"Export to plot.ly\", \"plotlyServerURL\": \"https://plot.ly\", \"responsive\": true}                    ).then(function(){\n",
       "                            \n",
       "var gd = document.getElementById('e086eb21-cc2e-4cb5-9ca3-0253d1c667ba');\n",
       "var x = new MutationObserver(function (mutations, observer) {{\n",
       "        var display = window.getComputedStyle(gd).display;\n",
       "        if (!display || display === 'none') {{\n",
       "            console.log([gd, 'removed!']);\n",
       "            Plotly.purge(gd);\n",
       "            observer.disconnect();\n",
       "        }}\n",
       "}});\n",
       "\n",
       "// Listen for the removal of the full notebook cells\n",
       "var notebookContainer = gd.closest('#notebook-container');\n",
       "if (notebookContainer) {{\n",
       "    x.observe(notebookContainer, {childList: true});\n",
       "}}\n",
       "\n",
       "// Listen for the clearing of the current output cell\n",
       "var outputEl = gd.closest('.output');\n",
       "if (outputEl) {{\n",
       "    x.observe(outputEl, {childList: true});\n",
       "}}\n",
       "\n",
       "                        })                };                });            </script>        </div>"
      ]
     },
     "metadata": {},
     "output_type": "display_data"
    }
   ],
   "source": [
    "from plotly.offline import download_plotlyjs, init_notebook_mode, plot, iplot\n",
    "init_notebook_mode(connected=True)\n",
    "#py.initnotebookmode(connected=True) # this code, allow us to work with offline plotly version\n",
    "# Using plotly + cufflinks in offline mode\n",
    "\n",
    "import cufflinks as cf\n",
    "cf.set_config_file(offline=True)\n",
    "import cufflinks\n",
    "cufflinks.go_offline(connected=True)\n",
    "\n",
    "df_JobFunction = pd.DataFrame(columns=[\"Field\", \"% of Leavers\"])\n",
    "\n",
    "i=0\n",
    "\n",
    "for field in list(employee_df['Job Function'].unique()):\n",
    "    ratio = employee_df[(employee_df['Job Function']==field)&(employee_df[\"Employee Status\"] == 'Terminated')].shape[0] / employee_df['Job Function'].shape[0]\n",
    "    df_JobFunction.loc[i] = (field, ratio*100)\n",
    "    i += 1\n",
    "    #print(\"In {}, the ratio of leavers is {:.2f}%\".format(field, ratio*100))    \n",
    "\n",
    "df_EF = df_JobFunction.groupby(by=\"Field\").sum()\n",
    "df_EF.iplot(kind='bar',title='Churn by Job Function Field (%)')\n"
   ]
  },
  {
   "cell_type": "markdown",
   "id": "7ef429ef",
   "metadata": {},
   "source": [
    "Engineering has highest churn overall. Followed by IT, Manufacturing, Financial Accounting, Engineering Services. "
   ]
  },
  {
   "cell_type": "markdown",
   "id": "ebabaee7",
   "metadata": {},
   "source": [
    "# Correlation\n"
   ]
  },
  {
   "cell_type": "code",
   "execution_count": 64,
   "id": "b34fca20",
   "metadata": {},
   "outputs": [
    {
     "name": "stdout",
     "output_type": "stream",
     "text": [
      "Most Positive Correlations: \n",
      " Age                                    0.075063\n",
      "Cost to Replace Employee Multiplier    0.082434\n",
      "Employee Status Ind                    1.000000\n",
      "Name: Employee Status Ind, dtype: float64\n",
      "\n",
      "Most Negative Correlations: \n",
      " Years of Service   -0.160459\n",
      "Compa Ratio        -0.096755\n",
      "Name: Employee Status Ind, dtype: float64\n"
     ]
    }
   ],
   "source": [
    "# Find correlations with the target and sort\n",
    "correlations = employee_df.corr()['Employee Status Ind'].sort_values()\n",
    "print('Most Positive Correlations: \\n', correlations.tail(3))\n",
    "print('\\nMost Negative Correlations: \\n', correlations.head(2))"
   ]
  },
  {
   "cell_type": "code",
   "execution_count": 66,
   "id": "3ce521c5",
   "metadata": {},
   "outputs": [
    {
     "data": {
      "text/plain": [
       "<AxesSubplot:>"
      ]
     },
     "execution_count": 66,
     "metadata": {},
     "output_type": "execute_result"
    },
    {
     "data": {
      "image/png": "[encoded data removed]",
      "text/plain": [
       "<Figure size 1000x500 with 2 Axes>"
      ]
     },
     "metadata": {},
     "output_type": "display_data"
    }
   ],
   "source": [
    "corr = employee_df.corr()\n",
    "mask = np.zeros_like(corr)\n",
    "mask[np.triu_indices_from(mask)] = True\n",
    "# Heatmap\n",
    "plt.figure(figsize=(10, 5))\n",
    "sns.heatmap(corr,\n",
    "            vmax=.5,\n",
    "            mask=mask,\n",
    "            # annot=True, fmt='.2f',\n",
    "            linewidths=.2, cmap=\"YlGnBu\")"
   ]
  },
  {
   "cell_type": "markdown",
   "id": "d0a7dbda",
   "metadata": {},
   "source": [
    "# Pre-processing Pipeline\n"
   ]
  },
  {
   "cell_type": "code",
   "execution_count": 67,
   "id": "8044e14e",
   "metadata": {},
   "outputs": [],
   "source": [
    "from sklearn.preprocessing import LabelEncoder, OneHotEncoder\n",
    "# Create a label encoder object\n",
    "le = LabelEncoder()"
   ]
  },
  {
   "cell_type": "code",
   "execution_count": 71,
   "id": "bdcc9b57",
   "metadata": {},
   "outputs": [
    {
     "name": "stdout",
     "output_type": "stream",
     "text": [
      "1 columns were label encoded.\n"
     ]
    }
   ],
   "source": [
    "# Label Encoding will be used for columns with 2 or less unique values\n",
    "df_employee_cleaned = employee_df.copy()\n",
    "\n",
    "le_count = 0\n",
    "for col in df_employee_cleaned.columns[1:]:\n",
    "    if df_employee_cleaned[col].dtype == 'object':\n",
    "        if len(list(df_employee_cleaned[col].unique())) <= 2:\n",
    "            le.fit(df_employee_cleaned[col])\n",
    "            df_employee_cleaned[col] = le.transform(df_employee_cleaned[col])\n",
    "            le_count += 1\n",
    "print('{} columns were label encoded.'.format(le_count))"
   ]
  },
  {
   "cell_type": "code",
   "execution_count": 72,
   "id": "92568a88",
   "metadata": {},
   "outputs": [
    {
     "name": "stdout",
     "output_type": "stream",
     "text": [
      "<class 'pandas.core.frame.DataFrame'>\n",
      "RangeIndex: 25787 entries, 0 to 25786\n",
      "Data columns (total 31 columns):\n",
      " #   Column                               Non-Null Count  Dtype         \n",
      "---  ------                               --------------  -----         \n",
      " 0   Employee Status                      25787 non-null  object        \n",
      " 1   Employee Type                        25787 non-null  int32         \n",
      " 2   Current Hire Date                    25787 non-null  datetime64[ns]\n",
      " 3   Continuous Service Date              25787 non-null  datetime64[ns]\n",
      " 4   Termination Date                     10951 non-null  datetime64[ns]\n",
      " 5   Years of Service                     25787 non-null  float64       \n",
      " 6   Term Category                        10950 non-null  object        \n",
      " 7   Termination Reason                   10950 non-null  object        \n",
      " 8   Location                             25787 non-null  object        \n",
      " 9   Country                              25787 non-null  object        \n",
      " 10  Region                               25787 non-null  object        \n",
      " 11  Job Code                             25787 non-null  object        \n",
      " 12  Job Title                            25787 non-null  object        \n",
      " 13  Job Category                         25787 non-null  object        \n",
      " 14  Job Function                         25787 non-null  object        \n",
      " 15  Job Family                           25787 non-null  object        \n",
      " 16  Management Level                     25787 non-null  object        \n",
      " 17  Pay Level                            25787 non-null  object        \n",
      " 18  Work Structure                       16803 non-null  object        \n",
      " 19  Pay Grade                            25787 non-null  object        \n",
      " 20  Organization                         25784 non-null  object        \n",
      " 21  Compa Ratio                          25787 non-null  float64       \n",
      " 22  Marital Status                       25309 non-null  object        \n",
      " 23  Age                                  25787 non-null  float64       \n",
      " 24  Generation                           25787 non-null  object        \n",
      " 25  Race/Ethnicity                       19889 non-null  object        \n",
      " 26  Gender                               25787 non-null  object        \n",
      " 27  Base Pay Mid Point Annualized USD    25787 non-null  float64       \n",
      " 28  Last Promotion Date                  14815 non-null  datetime64[ns]\n",
      " 29  Cost to Replace Employee Multiplier  25787 non-null  float64       \n",
      " 30  Employee Status Ind                  25787 non-null  int64         \n",
      "dtypes: datetime64[ns](4), float64(5), int32(1), int64(1), object(20)\n",
      "memory usage: 6.0+ MB\n"
     ]
    }
   ],
   "source": [
    "df_employee_cleaned.info()"
   ]
  },
  {
   "cell_type": "markdown",
   "id": "93bcdab2",
   "metadata": {},
   "source": [
    "# WIP"
   ]
  },
  {
   "cell_type": "code",
   "execution_count": 73,
   "id": "27981e18",
   "metadata": {},
   "outputs": [],
   "source": [
    "# convert rest of categorical variable into dummy\n",
    "\n",
    "df_employee_cleaned = pd.get_dummies(df_employee_cleaned, drop_first=True)"
   ]
  },
  {
   "cell_type": "code",
   "execution_count": 75,
   "id": "121185c2",
   "metadata": {},
   "outputs": [
    {
     "data": {
      "text/html": [
       "<div>\n",
       "<style scoped>\n",
       "    .dataframe tbody tr th:only-of-type {\n",
       "        vertical-align: middle;\n",
       "    }\n",
       "\n",
       "    .dataframe tbody tr th {\n",
       "        vertical-align: top;\n",
       "    }\n",
       "\n",
       "    .dataframe thead th {\n",
       "        text-align: right;\n",
       "    }\n",
       "</style>\n",
       "<table border=\"1\" class=\"dataframe\">\n",
       "  <thead>\n",
       "    <tr style=\"text-align: right;\">\n",
       "      <th></th>\n",
       "      <th>Employee Type</th>\n",
       "      <th>Current Hire Date</th>\n",
       "      <th>Continuous Service Date</th>\n",
       "      <th>Termination Date</th>\n",
       "      <th>Years of Service</th>\n",
       "      <th>Compa Ratio</th>\n",
       "      <th>Age</th>\n",
       "      <th>Base Pay Mid Point Annualized USD</th>\n",
       "      <th>Last Promotion Date</th>\n",
       "      <th>Cost to Replace Employee Multiplier</th>\n",
       "      <th>...</th>\n",
       "      <th>Race/Ethnicity_Pakistani</th>\n",
       "      <th>Race/Ethnicity_Sarawakian</th>\n",
       "      <th>Race/Ethnicity_Sikh</th>\n",
       "      <th>Race/Ethnicity_Thai</th>\n",
       "      <th>Race/Ethnicity_Two or More Races, not Hispanic or Latino</th>\n",
       "      <th>Race/Ethnicity_White, not Hispanic or Latino</th>\n",
       "      <th>Race/Ethnicity_others</th>\n",
       "      <th>Gender_Male</th>\n",
       "      <th>Gender_Undeclared</th>\n",
       "      <th>Gender_Unknown</th>\n",
       "    </tr>\n",
       "  </thead>\n",
       "  <tbody>\n",
       "    <tr>\n",
       "      <th>0</th>\n",
       "      <td>1</td>\n",
       "      <td>1991-04-29</td>\n",
       "      <td>1991-04-29</td>\n",
       "      <td>2020-08-04</td>\n",
       "      <td>29.3</td>\n",
       "      <td>0.841</td>\n",
       "      <td>59.0</td>\n",
       "      <td>250036.80</td>\n",
       "      <td>2003-09-22</td>\n",
       "      <td>1.25</td>\n",
       "      <td>...</td>\n",
       "      <td>0</td>\n",
       "      <td>0</td>\n",
       "      <td>0</td>\n",
       "      <td>0</td>\n",
       "      <td>0</td>\n",
       "      <td>1</td>\n",
       "      <td>0</td>\n",
       "      <td>1</td>\n",
       "      <td>0</td>\n",
       "      <td>0</td>\n",
       "    </tr>\n",
       "    <tr>\n",
       "      <th>1</th>\n",
       "      <td>1</td>\n",
       "      <td>1993-07-01</td>\n",
       "      <td>1993-07-01</td>\n",
       "      <td>2018-07-11</td>\n",
       "      <td>25.0</td>\n",
       "      <td>1.017</td>\n",
       "      <td>54.0</td>\n",
       "      <td>203097.98</td>\n",
       "      <td>2010-07-01</td>\n",
       "      <td>1.25</td>\n",
       "      <td>...</td>\n",
       "      <td>0</td>\n",
       "      <td>0</td>\n",
       "      <td>0</td>\n",
       "      <td>0</td>\n",
       "      <td>0</td>\n",
       "      <td>0</td>\n",
       "      <td>0</td>\n",
       "      <td>1</td>\n",
       "      <td>0</td>\n",
       "      <td>0</td>\n",
       "    </tr>\n",
       "    <tr>\n",
       "      <th>2</th>\n",
       "      <td>1</td>\n",
       "      <td>1989-07-05</td>\n",
       "      <td>1989-07-05</td>\n",
       "      <td>2017-09-22</td>\n",
       "      <td>28.2</td>\n",
       "      <td>0.890</td>\n",
       "      <td>58.0</td>\n",
       "      <td>50178.00</td>\n",
       "      <td>NaT</td>\n",
       "      <td>1.25</td>\n",
       "      <td>...</td>\n",
       "      <td>0</td>\n",
       "      <td>0</td>\n",
       "      <td>0</td>\n",
       "      <td>0</td>\n",
       "      <td>0</td>\n",
       "      <td>0</td>\n",
       "      <td>0</td>\n",
       "      <td>0</td>\n",
       "      <td>0</td>\n",
       "      <td>0</td>\n",
       "    </tr>\n",
       "    <tr>\n",
       "      <th>3</th>\n",
       "      <td>1</td>\n",
       "      <td>1984-02-15</td>\n",
       "      <td>1984-02-15</td>\n",
       "      <td>NaT</td>\n",
       "      <td>38.8</td>\n",
       "      <td>1.070</td>\n",
       "      <td>56.0</td>\n",
       "      <td>56514.22</td>\n",
       "      <td>NaT</td>\n",
       "      <td>1.25</td>\n",
       "      <td>...</td>\n",
       "      <td>0</td>\n",
       "      <td>0</td>\n",
       "      <td>0</td>\n",
       "      <td>0</td>\n",
       "      <td>0</td>\n",
       "      <td>0</td>\n",
       "      <td>0</td>\n",
       "      <td>0</td>\n",
       "      <td>0</td>\n",
       "      <td>0</td>\n",
       "    </tr>\n",
       "    <tr>\n",
       "      <th>4</th>\n",
       "      <td>1</td>\n",
       "      <td>1987-04-22</td>\n",
       "      <td>1987-04-22</td>\n",
       "      <td>2018-09-14</td>\n",
       "      <td>31.4</td>\n",
       "      <td>0.788</td>\n",
       "      <td>64.0</td>\n",
       "      <td>92718.64</td>\n",
       "      <td>2011-07-01</td>\n",
       "      <td>1.25</td>\n",
       "      <td>...</td>\n",
       "      <td>0</td>\n",
       "      <td>0</td>\n",
       "      <td>0</td>\n",
       "      <td>0</td>\n",
       "      <td>0</td>\n",
       "      <td>0</td>\n",
       "      <td>0</td>\n",
       "      <td>0</td>\n",
       "      <td>0</td>\n",
       "      <td>0</td>\n",
       "    </tr>\n",
       "  </tbody>\n",
       "</table>\n",
       "<p>5 rows × 6427 columns</p>\n",
       "</div>"
      ],
      "text/plain": [
       "   Employee Type Current Hire Date Continuous Service Date Termination Date  \\\n",
       "0              1        1991-04-29              1991-04-29       2020-08-04   \n",
       "1              1        1993-07-01              1993-07-01       2018-07-11   \n",
       "2              1        1989-07-05              1989-07-05       2017-09-22   \n",
       "3              1        1984-02-15              1984-02-15              NaT   \n",
       "4              1        1987-04-22              1987-04-22       2018-09-14   \n",
       "\n",
       "   Years of Service  Compa Ratio   Age  Base Pay Mid Point Annualized USD  \\\n",
       "0              29.3        0.841  59.0                          250036.80   \n",
       "1              25.0        1.017  54.0                          203097.98   \n",
       "2              28.2        0.890  58.0                           50178.00   \n",
       "3              38.8        1.070  56.0                           56514.22   \n",
       "4              31.4        0.788  64.0                           92718.64   \n",
       "\n",
       "  Last Promotion Date  Cost to Replace Employee Multiplier  ...  \\\n",
       "0          2003-09-22                                 1.25  ...   \n",
       "1          2010-07-01                                 1.25  ...   \n",
       "2                 NaT                                 1.25  ...   \n",
       "3                 NaT                                 1.25  ...   \n",
       "4          2011-07-01                                 1.25  ...   \n",
       "\n",
       "   Race/Ethnicity_Pakistani  Race/Ethnicity_Sarawakian  Race/Ethnicity_Sikh  \\\n",
       "0                         0                          0                    0   \n",
       "1                         0                          0                    0   \n",
       "2                         0                          0                    0   \n",
       "3                         0                          0                    0   \n",
       "4                         0                          0                    0   \n",
       "\n",
       "   Race/Ethnicity_Thai  \\\n",
       "0                    0   \n",
       "1                    0   \n",
       "2                    0   \n",
       "3                    0   \n",
       "4                    0   \n",
       "\n",
       "   Race/Ethnicity_Two or More Races, not Hispanic or Latino  \\\n",
       "0                                                  0          \n",
       "1                                                  0          \n",
       "2                                                  0          \n",
       "3                                                  0          \n",
       "4                                                  0          \n",
       "\n",
       "   Race/Ethnicity_White, not Hispanic or Latino  Race/Ethnicity_others  \\\n",
       "0                                             1                      0   \n",
       "1                                             0                      0   \n",
       "2                                             0                      0   \n",
       "3                                             0                      0   \n",
       "4                                             0                      0   \n",
       "\n",
       "   Gender_Male  Gender_Undeclared  Gender_Unknown  \n",
       "0            1                  0               0  \n",
       "1            1                  0               0  \n",
       "2            0                  0               0  \n",
       "3            0                  0               0  \n",
       "4            0                  0               0  \n",
       "\n",
       "[5 rows x 6427 columns]"
      ]
     },
     "execution_count": 75,
     "metadata": {},
     "output_type": "execute_result"
    }
   ],
   "source": [
    "df_employee_cleaned.head()"
   ]
  },
  {
   "cell_type": "code",
   "execution_count": null,
   "id": "b6123954",
   "metadata": {},
   "outputs": [],
   "source": []
  }
 ],
 "metadata": {
  "kernelspec": {
   "display_name": "Python 3 (ipykernel)",
   "language": "python",
   "name": "python3"
  },
  "language_info": {
   "codemirror_mode": {
    "name": "ipython",
    "version": 3
   },
   "file_extension": ".py",
   "mimetype": "text/x-python",
   "name": "python",
   "nbconvert_exporter": "python",
   "pygments_lexer": "ipython3",
   "version": "3.9.13"
  }
 },
 "nbformat": 4,
 "nbformat_minor": 5
}
